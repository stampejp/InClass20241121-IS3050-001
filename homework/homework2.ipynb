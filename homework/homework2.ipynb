{
  "cells": [
    {
      "cell_type": "markdown",
      "metadata": {
        "id": "view-in-github",
        "colab_type": "text"
      },
      "source": [
        "<a href=\"https://colab.research.google.com/github/stampejp/data-mining/blob/master/homework/homework2.ipynb\" target=\"_parent\"><img src=\"https://colab.research.google.com/assets/colab-badge.svg\" alt=\"Open In Colab\"/></a>"
      ]
    },
    {
      "cell_type": "markdown",
      "id": "3d0cbc01",
      "metadata": {
        "id": "3d0cbc01"
      },
      "source": [
        "# 📝 Homework 2: Data Wrangling - From Business Question to Analysis\n",
        "\n",
        "<a href=\"https://colab.research.google.com/github/bradleyboehmke/uc-bana-4080/blob/main/homework/homework2.ipynb\" target=\"_parent\"><img src=\"https://colab.research.google.com/assets/colab-badge.svg\" alt=\"Open In Colab\"/></a>"
      ]
    },
    {
      "cell_type": "markdown",
      "id": "3b4c0ffb",
      "metadata": {
        "id": "3b4c0ffb"
      },
      "source": [
        "---\n",
        "\n",
        "## 📂 Instructions\n",
        "\n",
        "This homework is based on the Lab we worked through in Thursday's class.  So, if you completed that Lab, you can use that notebook for the homework.\n",
        "\n",
        "Complete the tasks below in this Jupyter notebook. Most tasks require you to write Python code and use the output to answer **a separate online quiz**.\n",
        "\n",
        "At the end, you’ll also upload this completed `.ipynb` notebook\n",
        "\n",
        "---\n",
        "\n",
        "In this homework, we’ll use **three datasets** from the Complete Journey retail grocery data:\n",
        "\n",
        "1. **transactions** – product purchases by households (receipt-level detail)  \n",
        "2. **demographics** – household-level demographic data  \n",
        "3. **products** – metadata about products purchased  \n",
        "\n",
        "This homework reinforces this week’s readings:\n",
        "\n",
        "- **[Reading 10: Manipulating Data](https://bradleyboehmke.github.io/uc-bana-4080/10-manipulating-data.html)**\n",
        "- **[Reading 11: Summarizing Data](https://bradleyboehmke.github.io/uc-bana-4080/11_aggregating_data.html)**\n",
        "- **[Reading 12: Joining Data](https://bradleyboehmke.github.io/uc-bana-4080/12-joining-data.html)**\n",
        "\n",
        "We will:\n",
        "- Start with simple data exploration\n",
        "- Progress to manipulating and summarizing data\n",
        "- End with joining datasets to answer more complex questions\n",
        "- Practice breaking business questions into **analytical steps**\n",
        "\n",
        "You are encouraged to work in small groups of **2–4 students** but you must submit your own notebook.\n"
      ]
    },
    {
      "cell_type": "markdown",
      "id": "c3f7a993",
      "metadata": {
        "id": "c3f7a993"
      },
      "source": [
        "## Setup"
      ]
    },
    {
      "cell_type": "code",
      "execution_count": 20,
      "id": "79effe5d",
      "metadata": {
        "colab": {
          "base_uri": "https://localhost:8080/",
          "height": 206
        },
        "id": "79effe5d",
        "outputId": "b2fb4920-9b5d-4ef3-896d-0332c2b595a8"
      },
      "outputs": [
        {
          "output_type": "execute_result",
          "data": {
            "text/plain": [
              "   household_id  store_id    basket_id  product_id  quantity  sales_value  \\\n",
              "0           900       330  31198570044     1095275         1         0.50   \n",
              "1           900       330  31198570047     9878513         1         0.99   \n",
              "2          1228       406  31198655051     1041453         1         1.43   \n",
              "3           906       319  31198705046     1020156         1         1.50   \n",
              "4           906       319  31198705046     1053875         2         2.78   \n",
              "\n",
              "   retail_disc  coupon_disc  coupon_match_disc  week transaction_timestamp  \n",
              "0         0.00          0.0                0.0     1   2017-01-01 11:53:26  \n",
              "1         0.10          0.0                0.0     1   2017-01-01 12:10:28  \n",
              "2         0.15          0.0                0.0     1   2017-01-01 12:26:30  \n",
              "3         0.29          0.0                0.0     1   2017-01-01 12:30:27  \n",
              "4         0.80          0.0                0.0     1   2017-01-01 12:30:27  "
            ],
            "text/html": [
              "\n",
              "  <div id=\"df-510ef44a-b97f-47be-ad62-6bdd76c497a7\" class=\"colab-df-container\">\n",
              "    <div>\n",
              "<style scoped>\n",
              "    .dataframe tbody tr th:only-of-type {\n",
              "        vertical-align: middle;\n",
              "    }\n",
              "\n",
              "    .dataframe tbody tr th {\n",
              "        vertical-align: top;\n",
              "    }\n",
              "\n",
              "    .dataframe thead th {\n",
              "        text-align: right;\n",
              "    }\n",
              "</style>\n",
              "<table border=\"1\" class=\"dataframe\">\n",
              "  <thead>\n",
              "    <tr style=\"text-align: right;\">\n",
              "      <th></th>\n",
              "      <th>household_id</th>\n",
              "      <th>store_id</th>\n",
              "      <th>basket_id</th>\n",
              "      <th>product_id</th>\n",
              "      <th>quantity</th>\n",
              "      <th>sales_value</th>\n",
              "      <th>retail_disc</th>\n",
              "      <th>coupon_disc</th>\n",
              "      <th>coupon_match_disc</th>\n",
              "      <th>week</th>\n",
              "      <th>transaction_timestamp</th>\n",
              "    </tr>\n",
              "  </thead>\n",
              "  <tbody>\n",
              "    <tr>\n",
              "      <th>0</th>\n",
              "      <td>900</td>\n",
              "      <td>330</td>\n",
              "      <td>31198570044</td>\n",
              "      <td>1095275</td>\n",
              "      <td>1</td>\n",
              "      <td>0.50</td>\n",
              "      <td>0.00</td>\n",
              "      <td>0.0</td>\n",
              "      <td>0.0</td>\n",
              "      <td>1</td>\n",
              "      <td>2017-01-01 11:53:26</td>\n",
              "    </tr>\n",
              "    <tr>\n",
              "      <th>1</th>\n",
              "      <td>900</td>\n",
              "      <td>330</td>\n",
              "      <td>31198570047</td>\n",
              "      <td>9878513</td>\n",
              "      <td>1</td>\n",
              "      <td>0.99</td>\n",
              "      <td>0.10</td>\n",
              "      <td>0.0</td>\n",
              "      <td>0.0</td>\n",
              "      <td>1</td>\n",
              "      <td>2017-01-01 12:10:28</td>\n",
              "    </tr>\n",
              "    <tr>\n",
              "      <th>2</th>\n",
              "      <td>1228</td>\n",
              "      <td>406</td>\n",
              "      <td>31198655051</td>\n",
              "      <td>1041453</td>\n",
              "      <td>1</td>\n",
              "      <td>1.43</td>\n",
              "      <td>0.15</td>\n",
              "      <td>0.0</td>\n",
              "      <td>0.0</td>\n",
              "      <td>1</td>\n",
              "      <td>2017-01-01 12:26:30</td>\n",
              "    </tr>\n",
              "    <tr>\n",
              "      <th>3</th>\n",
              "      <td>906</td>\n",
              "      <td>319</td>\n",
              "      <td>31198705046</td>\n",
              "      <td>1020156</td>\n",
              "      <td>1</td>\n",
              "      <td>1.50</td>\n",
              "      <td>0.29</td>\n",
              "      <td>0.0</td>\n",
              "      <td>0.0</td>\n",
              "      <td>1</td>\n",
              "      <td>2017-01-01 12:30:27</td>\n",
              "    </tr>\n",
              "    <tr>\n",
              "      <th>4</th>\n",
              "      <td>906</td>\n",
              "      <td>319</td>\n",
              "      <td>31198705046</td>\n",
              "      <td>1053875</td>\n",
              "      <td>2</td>\n",
              "      <td>2.78</td>\n",
              "      <td>0.80</td>\n",
              "      <td>0.0</td>\n",
              "      <td>0.0</td>\n",
              "      <td>1</td>\n",
              "      <td>2017-01-01 12:30:27</td>\n",
              "    </tr>\n",
              "  </tbody>\n",
              "</table>\n",
              "</div>\n",
              "    <div class=\"colab-df-buttons\">\n",
              "\n",
              "  <div class=\"colab-df-container\">\n",
              "    <button class=\"colab-df-convert\" onclick=\"convertToInteractive('df-510ef44a-b97f-47be-ad62-6bdd76c497a7')\"\n",
              "            title=\"Convert this dataframe to an interactive table.\"\n",
              "            style=\"display:none;\">\n",
              "\n",
              "  <svg xmlns=\"http://www.w3.org/2000/svg\" height=\"24px\" viewBox=\"0 -960 960 960\">\n",
              "    <path d=\"M120-120v-720h720v720H120Zm60-500h600v-160H180v160Zm220 220h160v-160H400v160Zm0 220h160v-160H400v160ZM180-400h160v-160H180v160Zm440 0h160v-160H620v160ZM180-180h160v-160H180v160Zm440 0h160v-160H620v160Z\"/>\n",
              "  </svg>\n",
              "    </button>\n",
              "\n",
              "  <style>\n",
              "    .colab-df-container {\n",
              "      display:flex;\n",
              "      gap: 12px;\n",
              "    }\n",
              "\n",
              "    .colab-df-convert {\n",
              "      background-color: #E8F0FE;\n",
              "      border: none;\n",
              "      border-radius: 50%;\n",
              "      cursor: pointer;\n",
              "      display: none;\n",
              "      fill: #1967D2;\n",
              "      height: 32px;\n",
              "      padding: 0 0 0 0;\n",
              "      width: 32px;\n",
              "    }\n",
              "\n",
              "    .colab-df-convert:hover {\n",
              "      background-color: #E2EBFA;\n",
              "      box-shadow: 0px 1px 2px rgba(60, 64, 67, 0.3), 0px 1px 3px 1px rgba(60, 64, 67, 0.15);\n",
              "      fill: #174EA6;\n",
              "    }\n",
              "\n",
              "    .colab-df-buttons div {\n",
              "      margin-bottom: 4px;\n",
              "    }\n",
              "\n",
              "    [theme=dark] .colab-df-convert {\n",
              "      background-color: #3B4455;\n",
              "      fill: #D2E3FC;\n",
              "    }\n",
              "\n",
              "    [theme=dark] .colab-df-convert:hover {\n",
              "      background-color: #434B5C;\n",
              "      box-shadow: 0px 1px 3px 1px rgba(0, 0, 0, 0.15);\n",
              "      filter: drop-shadow(0px 1px 2px rgba(0, 0, 0, 0.3));\n",
              "      fill: #FFFFFF;\n",
              "    }\n",
              "  </style>\n",
              "\n",
              "    <script>\n",
              "      const buttonEl =\n",
              "        document.querySelector('#df-510ef44a-b97f-47be-ad62-6bdd76c497a7 button.colab-df-convert');\n",
              "      buttonEl.style.display =\n",
              "        google.colab.kernel.accessAllowed ? 'block' : 'none';\n",
              "\n",
              "      async function convertToInteractive(key) {\n",
              "        const element = document.querySelector('#df-510ef44a-b97f-47be-ad62-6bdd76c497a7');\n",
              "        const dataTable =\n",
              "          await google.colab.kernel.invokeFunction('convertToInteractive',\n",
              "                                                    [key], {});\n",
              "        if (!dataTable) return;\n",
              "\n",
              "        const docLinkHtml = 'Like what you see? Visit the ' +\n",
              "          '<a target=\"_blank\" href=https://colab.research.google.com/notebooks/data_table.ipynb>data table notebook</a>'\n",
              "          + ' to learn more about interactive tables.';\n",
              "        element.innerHTML = '';\n",
              "        dataTable['output_type'] = 'display_data';\n",
              "        await google.colab.output.renderOutput(dataTable, element);\n",
              "        const docLink = document.createElement('div');\n",
              "        docLink.innerHTML = docLinkHtml;\n",
              "        element.appendChild(docLink);\n",
              "      }\n",
              "    </script>\n",
              "  </div>\n",
              "\n",
              "\n",
              "    <div id=\"df-d402139f-f83d-4eba-a5ca-5f3ccd0edce1\">\n",
              "      <button class=\"colab-df-quickchart\" onclick=\"quickchart('df-d402139f-f83d-4eba-a5ca-5f3ccd0edce1')\"\n",
              "                title=\"Suggest charts\"\n",
              "                style=\"display:none;\">\n",
              "\n",
              "<svg xmlns=\"http://www.w3.org/2000/svg\" height=\"24px\"viewBox=\"0 0 24 24\"\n",
              "     width=\"24px\">\n",
              "    <g>\n",
              "        <path d=\"M19 3H5c-1.1 0-2 .9-2 2v14c0 1.1.9 2 2 2h14c1.1 0 2-.9 2-2V5c0-1.1-.9-2-2-2zM9 17H7v-7h2v7zm4 0h-2V7h2v10zm4 0h-2v-4h2v4z\"/>\n",
              "    </g>\n",
              "</svg>\n",
              "      </button>\n",
              "\n",
              "<style>\n",
              "  .colab-df-quickchart {\n",
              "      --bg-color: #E8F0FE;\n",
              "      --fill-color: #1967D2;\n",
              "      --hover-bg-color: #E2EBFA;\n",
              "      --hover-fill-color: #174EA6;\n",
              "      --disabled-fill-color: #AAA;\n",
              "      --disabled-bg-color: #DDD;\n",
              "  }\n",
              "\n",
              "  [theme=dark] .colab-df-quickchart {\n",
              "      --bg-color: #3B4455;\n",
              "      --fill-color: #D2E3FC;\n",
              "      --hover-bg-color: #434B5C;\n",
              "      --hover-fill-color: #FFFFFF;\n",
              "      --disabled-bg-color: #3B4455;\n",
              "      --disabled-fill-color: #666;\n",
              "  }\n",
              "\n",
              "  .colab-df-quickchart {\n",
              "    background-color: var(--bg-color);\n",
              "    border: none;\n",
              "    border-radius: 50%;\n",
              "    cursor: pointer;\n",
              "    display: none;\n",
              "    fill: var(--fill-color);\n",
              "    height: 32px;\n",
              "    padding: 0;\n",
              "    width: 32px;\n",
              "  }\n",
              "\n",
              "  .colab-df-quickchart:hover {\n",
              "    background-color: var(--hover-bg-color);\n",
              "    box-shadow: 0 1px 2px rgba(60, 64, 67, 0.3), 0 1px 3px 1px rgba(60, 64, 67, 0.15);\n",
              "    fill: var(--button-hover-fill-color);\n",
              "  }\n",
              "\n",
              "  .colab-df-quickchart-complete:disabled,\n",
              "  .colab-df-quickchart-complete:disabled:hover {\n",
              "    background-color: var(--disabled-bg-color);\n",
              "    fill: var(--disabled-fill-color);\n",
              "    box-shadow: none;\n",
              "  }\n",
              "\n",
              "  .colab-df-spinner {\n",
              "    border: 2px solid var(--fill-color);\n",
              "    border-color: transparent;\n",
              "    border-bottom-color: var(--fill-color);\n",
              "    animation:\n",
              "      spin 1s steps(1) infinite;\n",
              "  }\n",
              "\n",
              "  @keyframes spin {\n",
              "    0% {\n",
              "      border-color: transparent;\n",
              "      border-bottom-color: var(--fill-color);\n",
              "      border-left-color: var(--fill-color);\n",
              "    }\n",
              "    20% {\n",
              "      border-color: transparent;\n",
              "      border-left-color: var(--fill-color);\n",
              "      border-top-color: var(--fill-color);\n",
              "    }\n",
              "    30% {\n",
              "      border-color: transparent;\n",
              "      border-left-color: var(--fill-color);\n",
              "      border-top-color: var(--fill-color);\n",
              "      border-right-color: var(--fill-color);\n",
              "    }\n",
              "    40% {\n",
              "      border-color: transparent;\n",
              "      border-right-color: var(--fill-color);\n",
              "      border-top-color: var(--fill-color);\n",
              "    }\n",
              "    60% {\n",
              "      border-color: transparent;\n",
              "      border-right-color: var(--fill-color);\n",
              "    }\n",
              "    80% {\n",
              "      border-color: transparent;\n",
              "      border-right-color: var(--fill-color);\n",
              "      border-bottom-color: var(--fill-color);\n",
              "    }\n",
              "    90% {\n",
              "      border-color: transparent;\n",
              "      border-bottom-color: var(--fill-color);\n",
              "    }\n",
              "  }\n",
              "</style>\n",
              "\n",
              "      <script>\n",
              "        async function quickchart(key) {\n",
              "          const quickchartButtonEl =\n",
              "            document.querySelector('#' + key + ' button');\n",
              "          quickchartButtonEl.disabled = true;  // To prevent multiple clicks.\n",
              "          quickchartButtonEl.classList.add('colab-df-spinner');\n",
              "          try {\n",
              "            const charts = await google.colab.kernel.invokeFunction(\n",
              "                'suggestCharts', [key], {});\n",
              "          } catch (error) {\n",
              "            console.error('Error during call to suggestCharts:', error);\n",
              "          }\n",
              "          quickchartButtonEl.classList.remove('colab-df-spinner');\n",
              "          quickchartButtonEl.classList.add('colab-df-quickchart-complete');\n",
              "        }\n",
              "        (() => {\n",
              "          let quickchartButtonEl =\n",
              "            document.querySelector('#df-d402139f-f83d-4eba-a5ca-5f3ccd0edce1 button');\n",
              "          quickchartButtonEl.style.display =\n",
              "            google.colab.kernel.accessAllowed ? 'block' : 'none';\n",
              "        })();\n",
              "      </script>\n",
              "    </div>\n",
              "\n",
              "    </div>\n",
              "  </div>\n"
            ],
            "application/vnd.google.colaboratory.intrinsic+json": {
              "type": "dataframe",
              "variable_name": "transactions"
            }
          },
          "metadata": {},
          "execution_count": 20
        }
      ],
      "source": [
        "# If you don't have completejourney_py installed, run: pip install completejourney-py\n",
        "from completejourney_py import get_data\n",
        "import pandas as pd\n",
        "\n",
        "# Load datasets\n",
        "cj_data = get_data()\n",
        "transactions = cj_data['transactions']\n",
        "products = cj_data['products']\n",
        "demographics = cj_data['demographics']\n",
        "\n",
        "# Quick preview\n",
        "transactions.head()\n"
      ]
    },
    {
      "cell_type": "markdown",
      "id": "7b2bfa3d",
      "metadata": {
        "id": "7b2bfa3d"
      },
      "source": [
        "## Part 1 – Basic Exploration"
      ]
    },
    {
      "cell_type": "markdown",
      "id": "4f0d81b4",
      "metadata": {
        "id": "4f0d81b4"
      },
      "source": [
        "\n",
        "**Q0:** How many transactions are in our dataset, what is the date range, how many households have demographic data, how many products exist, and what are the min/max/mean sales values?  \n",
        "\n",
        "**Step-by-step instructions:**\n",
        "1. Use `.shape[0]` on `transactions` to count rows.  \n",
        "2. Use `.min()` and `.max()` on `transaction_timestamp` to find the date range.  \n",
        "3. Use `.shape[0]` on `demographics` and `products` to get counts.  \n",
        "4. Use `.min()`, `.max()`, `.mean()` on `sales_value` for basic stats.\n"
      ]
    },
    {
      "cell_type": "code",
      "execution_count": 23,
      "id": "5ed08750",
      "metadata": {
        "colab": {
          "base_uri": "https://localhost:8080/"
        },
        "id": "5ed08750",
        "outputId": "4114ebc1-0d9f-4428-b85e-71ec168c8414"
      },
      "outputs": [
        {
          "output_type": "execute_result",
          "data": {
            "text/plain": [
              "1469307"
            ]
          },
          "metadata": {},
          "execution_count": 23
        }
      ],
      "source": [
        "# Starter code with blanks to fill\n",
        "# total number of transactions\n",
        "num_transactions = transactions.shape[0]\n",
        "num_transactions"
      ]
    },
    {
      "cell_type": "code",
      "execution_count": 24,
      "id": "9582b168",
      "metadata": {
        "colab": {
          "base_uri": "https://localhost:8080/"
        },
        "id": "9582b168",
        "outputId": "8909bc41-e21e-440e-fe01-bca8f9433cd3"
      },
      "outputs": [
        {
          "output_type": "execute_result",
          "data": {
            "text/plain": [
              "(Timestamp('2017-01-01 11:53:26'), Timestamp('2018-01-01 04:01:20'))"
            ]
          },
          "metadata": {},
          "execution_count": 24
        }
      ],
      "source": [
        "# date range of transactions\n",
        "min_date = transactions['transaction_timestamp'].min()\n",
        "max_date = transactions['transaction_timestamp'].max()\n",
        "\n",
        "min_date, max_date"
      ]
    },
    {
      "cell_type": "code",
      "execution_count": 25,
      "id": "e1d9414e",
      "metadata": {
        "colab": {
          "base_uri": "https://localhost:8080/"
        },
        "id": "e1d9414e",
        "outputId": "29cc450a-b478-4e69-e217-e3d5c62bfd53"
      },
      "outputs": [
        {
          "output_type": "execute_result",
          "data": {
            "text/plain": [
              "(801, 92331)"
            ]
          },
          "metadata": {},
          "execution_count": 25
        }
      ],
      "source": [
        "# number of unique households and products\n",
        "num_households = demographics.shape[0]\n",
        "num_products = products.shape[0]\n",
        "\n",
        "num_households, num_products"
      ]
    },
    {
      "cell_type": "code",
      "execution_count": 26,
      "id": "f80c8424",
      "metadata": {
        "colab": {
          "base_uri": "https://localhost:8080/"
        },
        "id": "f80c8424",
        "outputId": "0beb444c-0121-4a16-ae66-4158b8a97076"
      },
      "outputs": [
        {
          "output_type": "execute_result",
          "data": {
            "text/plain": [
              "(0.0, 840.0, np.float64(3.12803218115751))"
            ]
          },
          "metadata": {},
          "execution_count": 26
        }
      ],
      "source": [
        "# summary statistics for sales_value\n",
        "min_sales = transactions['sales_value'].min()\n",
        "max_sales = transactions['sales_value'].max()\n",
        "mean_sales = transactions['sales_value'].mean()\n",
        "\n",
        "min_sales, max_sales, mean_sales"
      ]
    },
    {
      "cell_type": "markdown",
      "id": "adac3621",
      "metadata": {
        "id": "adac3621"
      },
      "source": [
        "\n",
        "**Q1:** Which day had the highest total sales?  \n",
        "\n",
        "**Step-by-step instructions:**\n",
        "1. Create a new column `date` by extracting only the date from `transaction_timestamp` (`.dt.date`).  \n",
        "2. Group by `date` and sum `sales_value`.  \n",
        "3. Sort results in descending order.  \n",
        "4. Select the top row.\n"
      ]
    },
    {
      "cell_type": "code",
      "execution_count": 27,
      "id": "146b02d1",
      "metadata": {
        "colab": {
          "base_uri": "https://localhost:8080/",
          "height": 147
        },
        "id": "146b02d1",
        "outputId": "a609dc08-d055-47be-8c2c-66c71882270b"
      },
      "outputs": [
        {
          "output_type": "display_data",
          "data": {
            "text/plain": [
              "date\n",
              "2017-12-23    24994.47\n",
              "Name: sales_value, dtype: float64"
            ],
            "text/html": [
              "<div>\n",
              "<style scoped>\n",
              "    .dataframe tbody tr th:only-of-type {\n",
              "        vertical-align: middle;\n",
              "    }\n",
              "\n",
              "    .dataframe tbody tr th {\n",
              "        vertical-align: top;\n",
              "    }\n",
              "\n",
              "    .dataframe thead th {\n",
              "        text-align: right;\n",
              "    }\n",
              "</style>\n",
              "<table border=\"1\" class=\"dataframe\">\n",
              "  <thead>\n",
              "    <tr style=\"text-align: right;\">\n",
              "      <th></th>\n",
              "      <th>sales_value</th>\n",
              "    </tr>\n",
              "    <tr>\n",
              "      <th>date</th>\n",
              "      <th></th>\n",
              "    </tr>\n",
              "  </thead>\n",
              "  <tbody>\n",
              "    <tr>\n",
              "      <th>2017-12-23</th>\n",
              "      <td>24994.47</td>\n",
              "    </tr>\n",
              "  </tbody>\n",
              "</table>\n",
              "</div><br><label><b>dtype:</b> float64</label>"
            ]
          },
          "metadata": {}
        }
      ],
      "source": [
        "transactions['date'] = transactions['transaction_timestamp'].dt.date\n",
        "daily_sales = transactions.groupby('date')['sales_value'].sum()\n",
        "highest_sales_day = daily_sales.sort_values(ascending=False).head(1)\n",
        "display(highest_sales_day)"
      ]
    },
    {
      "cell_type": "markdown",
      "id": "5e1af13c",
      "metadata": {
        "id": "5e1af13c"
      },
      "source": [
        "\n",
        "**Q2:** What are the top 5 departments by total sales?  \n",
        "\n",
        "**Step-by-step instructions:**\n",
        "1. Join `transactions` to `products` on `product_id` using an inner join.  \n",
        "2. Group by `department` and sum `sales_value`.  \n",
        "3. Sort results in descending order.  \n",
        "4. Display the top 5.\n"
      ]
    },
    {
      "cell_type": "code",
      "execution_count": 28,
      "id": "7879cfbb",
      "metadata": {
        "colab": {
          "base_uri": "https://localhost:8080/",
          "height": 272
        },
        "id": "7879cfbb",
        "outputId": "0b108779-acbd-4021-b5c3-9ec3c30ca062"
      },
      "outputs": [
        {
          "output_type": "display_data",
          "data": {
            "text/plain": [
              "department\n",
              "GROCERY    2316393.89\n",
              "DRUG GM     596827.45\n",
              "FUEL        329594.45\n",
              "PRODUCE     322858.82\n",
              "MEAT        308575.33\n",
              "Name: sales_value, dtype: float64"
            ],
            "text/html": [
              "<div>\n",
              "<style scoped>\n",
              "    .dataframe tbody tr th:only-of-type {\n",
              "        vertical-align: middle;\n",
              "    }\n",
              "\n",
              "    .dataframe tbody tr th {\n",
              "        vertical-align: top;\n",
              "    }\n",
              "\n",
              "    .dataframe thead th {\n",
              "        text-align: right;\n",
              "    }\n",
              "</style>\n",
              "<table border=\"1\" class=\"dataframe\">\n",
              "  <thead>\n",
              "    <tr style=\"text-align: right;\">\n",
              "      <th></th>\n",
              "      <th>sales_value</th>\n",
              "    </tr>\n",
              "    <tr>\n",
              "      <th>department</th>\n",
              "      <th></th>\n",
              "    </tr>\n",
              "  </thead>\n",
              "  <tbody>\n",
              "    <tr>\n",
              "      <th>GROCERY</th>\n",
              "      <td>2316393.89</td>\n",
              "    </tr>\n",
              "    <tr>\n",
              "      <th>DRUG GM</th>\n",
              "      <td>596827.45</td>\n",
              "    </tr>\n",
              "    <tr>\n",
              "      <th>FUEL</th>\n",
              "      <td>329594.45</td>\n",
              "    </tr>\n",
              "    <tr>\n",
              "      <th>PRODUCE</th>\n",
              "      <td>322858.82</td>\n",
              "    </tr>\n",
              "    <tr>\n",
              "      <th>MEAT</th>\n",
              "      <td>308575.33</td>\n",
              "    </tr>\n",
              "  </tbody>\n",
              "</table>\n",
              "</div><br><label><b>dtype:</b> float64</label>"
            ]
          },
          "metadata": {}
        }
      ],
      "source": [
        "# Join transactions to products\n",
        "transactions_products = pd.merge(transactions, products, on='product_id', how='inner')\n",
        "\n",
        "# Group by department and sum sales_value\n",
        "department_sales = transactions_products.groupby('department')['sales_value'].sum()\n",
        "\n",
        "# Sort results in descending order and select the top 5\n",
        "top_5_departments = department_sales.sort_values(ascending=False).head(5)\n",
        "\n",
        "# Display the top 5\n",
        "display(top_5_departments)"
      ]
    },
    {
      "cell_type": "markdown",
      "id": "d44f83a9",
      "metadata": {
        "id": "d44f83a9"
      },
      "source": [
        "## Part 2 – Manipulating Data"
      ]
    },
    {
      "cell_type": "markdown",
      "id": "76b02a97",
      "metadata": {
        "id": "76b02a97"
      },
      "source": [
        "\n",
        "**Q3:** What is the average unit price for each department?  \n",
        "\n",
        "**Step-by-step instructions:**\n",
        "1. Create a `unit_price` column: `sales_value / quantity`.  \n",
        "2. Join `transactions` to `products` to bring in `department`.  \n",
        "3. Group by `department` and calculate the mean of `unit_price`.\n"
      ]
    },
    {
      "cell_type": "code",
      "execution_count": 29,
      "id": "1ec20178",
      "metadata": {
        "colab": {
          "base_uri": "https://localhost:8080/",
          "height": 1000
        },
        "id": "1ec20178",
        "outputId": "10a22876-7a4e-43c8-c505-805acdada993"
      },
      "outputs": [
        {
          "output_type": "display_data",
          "data": {
            "text/plain": [
              "department\n",
              "AUTOMOTIVE          7.216111\n",
              "CHEF SHOPPE         2.522274\n",
              "CNTRL/STORE SUP     3.150000\n",
              "COSMETICS           4.138923\n",
              "COUPON              1.296070\n",
              "DELI                     inf\n",
              "DRUG GM                  inf\n",
              "ELECT &PLUMBING     1.000000\n",
              "FLORAL              7.732635\n",
              "FROZEN GROCERY      2.794859\n",
              "FUEL                1.516282\n",
              "GARDEN CENTER            inf\n",
              "GM MERCH EXP        1.572222\n",
              "GROCERY                  inf\n",
              "MEAT                     inf\n",
              "MEAT-PCKGD               inf\n",
              "MISCELLANEOUS       4.363352\n",
              "NUTRITION           2.483601\n",
              "PASTRY              2.895513\n",
              "PHOTO & VIDEO       2.835882\n",
              "POSTAL CENTER       1.156000\n",
              "PROD-WHS SALES      0.840000\n",
              "PRODUCE                  inf\n",
              "RESTAURANT          3.704349\n",
              "SALAD BAR           2.939270\n",
              "SEAFOOD             6.721697\n",
              "SEAFOOD-PCKGD       4.509113\n",
              "SPIRITS             9.730135\n",
              "TOYS                1.290000\n",
              "TRAVEL & LEISURE    2.853138\n",
              "Name: unit_price, dtype: float64"
            ],
            "text/html": [
              "<div>\n",
              "<style scoped>\n",
              "    .dataframe tbody tr th:only-of-type {\n",
              "        vertical-align: middle;\n",
              "    }\n",
              "\n",
              "    .dataframe tbody tr th {\n",
              "        vertical-align: top;\n",
              "    }\n",
              "\n",
              "    .dataframe thead th {\n",
              "        text-align: right;\n",
              "    }\n",
              "</style>\n",
              "<table border=\"1\" class=\"dataframe\">\n",
              "  <thead>\n",
              "    <tr style=\"text-align: right;\">\n",
              "      <th></th>\n",
              "      <th>unit_price</th>\n",
              "    </tr>\n",
              "    <tr>\n",
              "      <th>department</th>\n",
              "      <th></th>\n",
              "    </tr>\n",
              "  </thead>\n",
              "  <tbody>\n",
              "    <tr>\n",
              "      <th>AUTOMOTIVE</th>\n",
              "      <td>7.216111</td>\n",
              "    </tr>\n",
              "    <tr>\n",
              "      <th>CHEF SHOPPE</th>\n",
              "      <td>2.522274</td>\n",
              "    </tr>\n",
              "    <tr>\n",
              "      <th>CNTRL/STORE SUP</th>\n",
              "      <td>3.150000</td>\n",
              "    </tr>\n",
              "    <tr>\n",
              "      <th>COSMETICS</th>\n",
              "      <td>4.138923</td>\n",
              "    </tr>\n",
              "    <tr>\n",
              "      <th>COUPON</th>\n",
              "      <td>1.296070</td>\n",
              "    </tr>\n",
              "    <tr>\n",
              "      <th>DELI</th>\n",
              "      <td>inf</td>\n",
              "    </tr>\n",
              "    <tr>\n",
              "      <th>DRUG GM</th>\n",
              "      <td>inf</td>\n",
              "    </tr>\n",
              "    <tr>\n",
              "      <th>ELECT &amp;PLUMBING</th>\n",
              "      <td>1.000000</td>\n",
              "    </tr>\n",
              "    <tr>\n",
              "      <th>FLORAL</th>\n",
              "      <td>7.732635</td>\n",
              "    </tr>\n",
              "    <tr>\n",
              "      <th>FROZEN GROCERY</th>\n",
              "      <td>2.794859</td>\n",
              "    </tr>\n",
              "    <tr>\n",
              "      <th>FUEL</th>\n",
              "      <td>1.516282</td>\n",
              "    </tr>\n",
              "    <tr>\n",
              "      <th>GARDEN CENTER</th>\n",
              "      <td>inf</td>\n",
              "    </tr>\n",
              "    <tr>\n",
              "      <th>GM MERCH EXP</th>\n",
              "      <td>1.572222</td>\n",
              "    </tr>\n",
              "    <tr>\n",
              "      <th>GROCERY</th>\n",
              "      <td>inf</td>\n",
              "    </tr>\n",
              "    <tr>\n",
              "      <th>MEAT</th>\n",
              "      <td>inf</td>\n",
              "    </tr>\n",
              "    <tr>\n",
              "      <th>MEAT-PCKGD</th>\n",
              "      <td>inf</td>\n",
              "    </tr>\n",
              "    <tr>\n",
              "      <th>MISCELLANEOUS</th>\n",
              "      <td>4.363352</td>\n",
              "    </tr>\n",
              "    <tr>\n",
              "      <th>NUTRITION</th>\n",
              "      <td>2.483601</td>\n",
              "    </tr>\n",
              "    <tr>\n",
              "      <th>PASTRY</th>\n",
              "      <td>2.895513</td>\n",
              "    </tr>\n",
              "    <tr>\n",
              "      <th>PHOTO &amp; VIDEO</th>\n",
              "      <td>2.835882</td>\n",
              "    </tr>\n",
              "    <tr>\n",
              "      <th>POSTAL CENTER</th>\n",
              "      <td>1.156000</td>\n",
              "    </tr>\n",
              "    <tr>\n",
              "      <th>PROD-WHS SALES</th>\n",
              "      <td>0.840000</td>\n",
              "    </tr>\n",
              "    <tr>\n",
              "      <th>PRODUCE</th>\n",
              "      <td>inf</td>\n",
              "    </tr>\n",
              "    <tr>\n",
              "      <th>RESTAURANT</th>\n",
              "      <td>3.704349</td>\n",
              "    </tr>\n",
              "    <tr>\n",
              "      <th>SALAD BAR</th>\n",
              "      <td>2.939270</td>\n",
              "    </tr>\n",
              "    <tr>\n",
              "      <th>SEAFOOD</th>\n",
              "      <td>6.721697</td>\n",
              "    </tr>\n",
              "    <tr>\n",
              "      <th>SEAFOOD-PCKGD</th>\n",
              "      <td>4.509113</td>\n",
              "    </tr>\n",
              "    <tr>\n",
              "      <th>SPIRITS</th>\n",
              "      <td>9.730135</td>\n",
              "    </tr>\n",
              "    <tr>\n",
              "      <th>TOYS</th>\n",
              "      <td>1.290000</td>\n",
              "    </tr>\n",
              "    <tr>\n",
              "      <th>TRAVEL &amp; LEISURE</th>\n",
              "      <td>2.853138</td>\n",
              "    </tr>\n",
              "  </tbody>\n",
              "</table>\n",
              "</div><br><label><b>dtype:</b> float64</label>"
            ]
          },
          "metadata": {}
        }
      ],
      "source": [
        "# Create unit_price column\n",
        "transactions['unit_price'] = transactions['sales_value'] / transactions['quantity']\n",
        "\n",
        "# Join transactions to products\n",
        "transactions_products_price = pd.merge(transactions, products, on='product_id', how='inner')\n",
        "\n",
        "# Group by department and calculate mean unit_price\n",
        "avg_unit_price_by_department = transactions_products_price.groupby('department')['unit_price'].mean()\n",
        "\n",
        "# Display the average unit price by department\n",
        "display(avg_unit_price_by_department)"
      ]
    },
    {
      "cell_type": "markdown",
      "id": "00f46386",
      "metadata": {
        "id": "00f46386"
      },
      "source": [
        "\n",
        "**Q4:** Do we have missing values in `unit_price`?  \n",
        "\n",
        "**Step-by-step instructions:**\n",
        "1. Use `.isna().sum()` on `unit_price` to count missing values.  \n",
        "2. Consider filtering rows where `quantity == 0` to see if that’s the cause.\n"
      ]
    },
    {
      "cell_type": "code",
      "execution_count": 30,
      "id": "c9bc32b0",
      "metadata": {
        "colab": {
          "base_uri": "https://localhost:8080/"
        },
        "id": "c9bc32b0",
        "outputId": "ea616b54-821e-40fb-9a16-b0bd688ebcae"
      },
      "outputs": [
        {
          "output_type": "stream",
          "name": "stdout",
          "text": [
            "Number of missing values in unit_price: 8820\n",
            "Number of missing values in unit_price where quantity is 0: 8820\n"
          ]
        }
      ],
      "source": [
        "# Check for missing values in unit_price\n",
        "missing_unit_price = transactions['unit_price'].isna().sum()\n",
        "print(f\"Number of missing values in unit_price: {missing_unit_price}\")\n",
        "\n",
        "# Check if quantity == 0 is the cause\n",
        "zero_quantity_missing_price = transactions[transactions['quantity'] == 0]['unit_price'].isna().sum()\n",
        "print(f\"Number of missing values in unit_price where quantity is 0: {zero_quantity_missing_price}\")"
      ]
    },
    {
      "cell_type": "markdown",
      "id": "bcec1288",
      "metadata": {
        "id": "bcec1288"
      },
      "source": [
        "## Part 3 – Aggregations"
      ]
    },
    {
      "cell_type": "markdown",
      "id": "d33e7005",
      "metadata": {
        "id": "d33e7005"
      },
      "source": [
        "\n",
        "**Q5:** Which income level spends the most on average?\n",
        "\n",
        "*Hint:* Join transactions to demographics, group by income, calculate mean sales per income level.\n"
      ]
    },
    {
      "cell_type": "code",
      "execution_count": 31,
      "id": "f85fb384",
      "metadata": {
        "colab": {
          "base_uri": "https://localhost:8080/",
          "height": 492
        },
        "id": "f85fb384",
        "outputId": "142c6667-d273-4a69-8651-f910392e0190"
      },
      "outputs": [
        {
          "output_type": "display_data",
          "data": {
            "text/plain": [
              "income\n",
              "175-199K     3.754513\n",
              "250K+        3.724832\n",
              "200-249K     3.703222\n",
              "150-174K     3.541206\n",
              "100-124K     3.481148\n",
              "125-149K     3.457844\n",
              "75-99K       3.327325\n",
              "50-74K       3.149264\n",
              "35-49K       2.978827\n",
              "Under 15K    2.977735\n",
              "25-34K       2.957803\n",
              "15-24K       2.921428\n",
              "Name: sales_value, dtype: float64"
            ],
            "text/html": [
              "<div>\n",
              "<style scoped>\n",
              "    .dataframe tbody tr th:only-of-type {\n",
              "        vertical-align: middle;\n",
              "    }\n",
              "\n",
              "    .dataframe tbody tr th {\n",
              "        vertical-align: top;\n",
              "    }\n",
              "\n",
              "    .dataframe thead th {\n",
              "        text-align: right;\n",
              "    }\n",
              "</style>\n",
              "<table border=\"1\" class=\"dataframe\">\n",
              "  <thead>\n",
              "    <tr style=\"text-align: right;\">\n",
              "      <th></th>\n",
              "      <th>sales_value</th>\n",
              "    </tr>\n",
              "    <tr>\n",
              "      <th>income</th>\n",
              "      <th></th>\n",
              "    </tr>\n",
              "  </thead>\n",
              "  <tbody>\n",
              "    <tr>\n",
              "      <th>175-199K</th>\n",
              "      <td>3.754513</td>\n",
              "    </tr>\n",
              "    <tr>\n",
              "      <th>250K+</th>\n",
              "      <td>3.724832</td>\n",
              "    </tr>\n",
              "    <tr>\n",
              "      <th>200-249K</th>\n",
              "      <td>3.703222</td>\n",
              "    </tr>\n",
              "    <tr>\n",
              "      <th>150-174K</th>\n",
              "      <td>3.541206</td>\n",
              "    </tr>\n",
              "    <tr>\n",
              "      <th>100-124K</th>\n",
              "      <td>3.481148</td>\n",
              "    </tr>\n",
              "    <tr>\n",
              "      <th>125-149K</th>\n",
              "      <td>3.457844</td>\n",
              "    </tr>\n",
              "    <tr>\n",
              "      <th>75-99K</th>\n",
              "      <td>3.327325</td>\n",
              "    </tr>\n",
              "    <tr>\n",
              "      <th>50-74K</th>\n",
              "      <td>3.149264</td>\n",
              "    </tr>\n",
              "    <tr>\n",
              "      <th>35-49K</th>\n",
              "      <td>2.978827</td>\n",
              "    </tr>\n",
              "    <tr>\n",
              "      <th>Under 15K</th>\n",
              "      <td>2.977735</td>\n",
              "    </tr>\n",
              "    <tr>\n",
              "      <th>25-34K</th>\n",
              "      <td>2.957803</td>\n",
              "    </tr>\n",
              "    <tr>\n",
              "      <th>15-24K</th>\n",
              "      <td>2.921428</td>\n",
              "    </tr>\n",
              "  </tbody>\n",
              "</table>\n",
              "</div><br><label><b>dtype:</b> float64</label>"
            ]
          },
          "metadata": {}
        }
      ],
      "source": [
        "# Join transactions to demographics\n",
        "transactions_demographics = pd.merge(transactions, demographics, on='household_id', how='inner')\n",
        "\n",
        "# Group by income and calculate mean sales_value\n",
        "avg_sales_by_income = transactions_demographics.groupby('income')['sales_value'].mean()\n",
        "\n",
        "# Sort results in descending order and display\n",
        "highest_spending_income = avg_sales_by_income.sort_values(ascending=False)\n",
        "display(highest_spending_income)"
      ]
    },
    {
      "cell_type": "markdown",
      "id": "7476d90b",
      "metadata": {
        "id": "7476d90b"
      },
      "source": [
        "\n",
        "**Q6:** Do households with kids spend more (on average) than households without kids?  \n",
        "\n",
        "*Hint:* Use `kid_count` to group households by creating a new column (e.g., `has_kids`) that identifies whether a household has kids (`kid_count > 0`) or not (`kid_count == 0`). Note that the tricky part of this step is that `kid_count` is not a numeric variable 🤔. Compute the average spend for those with kids and those without.\n"
      ]
    },
    {
      "cell_type": "code",
      "execution_count": 46,
      "id": "950537dc",
      "metadata": {
        "colab": {
          "base_uri": "https://localhost:8080/",
          "height": 147
        },
        "id": "950537dc",
        "outputId": "6a850e3b-3256-4cdc-9178-76e6cc707b7e"
      },
      "outputs": [
        {
          "output_type": "display_data",
          "data": {
            "text/plain": [
              "has_kids\n",
              "With Kids    3.167014\n",
              "Name: sales_value, dtype: float64"
            ],
            "text/html": [
              "<div>\n",
              "<style scoped>\n",
              "    .dataframe tbody tr th:only-of-type {\n",
              "        vertical-align: middle;\n",
              "    }\n",
              "\n",
              "    .dataframe tbody tr th {\n",
              "        vertical-align: top;\n",
              "    }\n",
              "\n",
              "    .dataframe thead th {\n",
              "        text-align: right;\n",
              "    }\n",
              "</style>\n",
              "<table border=\"1\" class=\"dataframe\">\n",
              "  <thead>\n",
              "    <tr style=\"text-align: right;\">\n",
              "      <th></th>\n",
              "      <th>sales_value</th>\n",
              "    </tr>\n",
              "    <tr>\n",
              "      <th>has_kids</th>\n",
              "      <th></th>\n",
              "    </tr>\n",
              "  </thead>\n",
              "  <tbody>\n",
              "    <tr>\n",
              "      <th>With Kids</th>\n",
              "      <td>3.167014</td>\n",
              "    </tr>\n",
              "  </tbody>\n",
              "</table>\n",
              "</div><br><label><b>dtype:</b> float64</label>"
            ]
          },
          "metadata": {}
        }
      ],
      "source": [
        "# Join transactions to demographics\n",
        "transactions_demographics = pd.merge(transactions, demographics, on='household_id', how='inner')\n",
        "\n",
        "# Create a 'has_kids' column\n",
        "transactions_demographics['has_kids'] = transactions_demographics['kids_count'].apply(lambda x: 'With Kids' if x != 0 else 'Without Kids')\n",
        "\n",
        "# Group by has_kids and calculate mean sales_value\n",
        "avg_sales_by_kids = transactions_demographics.groupby('has_kids')['sales_value'].mean()\n",
        "\n",
        "# Display the average sales by kid count for both groups\n",
        "display(avg_sales_by_kids)"
      ]
    },
    {
      "cell_type": "markdown",
      "id": "a22ee537",
      "metadata": {
        "id": "a22ee537"
      },
      "source": [
        "\n",
        "**Q7:** What are the top 5 departments by total quantity of items sold?  \n",
        "\n",
        "*Hint:* Join to products, group by department, sum quantity, and sort.\n"
      ]
    },
    {
      "cell_type": "code",
      "execution_count": 33,
      "id": "f6165bb3",
      "metadata": {
        "colab": {
          "base_uri": "https://localhost:8080/",
          "height": 272
        },
        "id": "f6165bb3",
        "outputId": "3abcb7cf-3944-4f5c-f9b7-ee28daebcd31"
      },
      "outputs": [
        {
          "output_type": "display_data",
          "data": {
            "text/plain": [
              "department\n",
              "FUEL             129662940\n",
              "MISCELLANEOUS     21361882\n",
              "GROCERY            1242944\n",
              "DRUG GM             198635\n",
              "PRODUCE             185444\n",
              "Name: quantity, dtype: int64"
            ],
            "text/html": [
              "<div>\n",
              "<style scoped>\n",
              "    .dataframe tbody tr th:only-of-type {\n",
              "        vertical-align: middle;\n",
              "    }\n",
              "\n",
              "    .dataframe tbody tr th {\n",
              "        vertical-align: top;\n",
              "    }\n",
              "\n",
              "    .dataframe thead th {\n",
              "        text-align: right;\n",
              "    }\n",
              "</style>\n",
              "<table border=\"1\" class=\"dataframe\">\n",
              "  <thead>\n",
              "    <tr style=\"text-align: right;\">\n",
              "      <th></th>\n",
              "      <th>quantity</th>\n",
              "    </tr>\n",
              "    <tr>\n",
              "      <th>department</th>\n",
              "      <th></th>\n",
              "    </tr>\n",
              "  </thead>\n",
              "  <tbody>\n",
              "    <tr>\n",
              "      <th>FUEL</th>\n",
              "      <td>129662940</td>\n",
              "    </tr>\n",
              "    <tr>\n",
              "      <th>MISCELLANEOUS</th>\n",
              "      <td>21361882</td>\n",
              "    </tr>\n",
              "    <tr>\n",
              "      <th>GROCERY</th>\n",
              "      <td>1242944</td>\n",
              "    </tr>\n",
              "    <tr>\n",
              "      <th>DRUG GM</th>\n",
              "      <td>198635</td>\n",
              "    </tr>\n",
              "    <tr>\n",
              "      <th>PRODUCE</th>\n",
              "      <td>185444</td>\n",
              "    </tr>\n",
              "  </tbody>\n",
              "</table>\n",
              "</div><br><label><b>dtype:</b> int64</label>"
            ]
          },
          "metadata": {}
        }
      ],
      "source": [
        "# Join transactions to products\n",
        "transactions_products_quantity = pd.merge(transactions, products, on='product_id', how='inner')\n",
        "\n",
        "# Group by department and sum quantity\n",
        "department_quantity = transactions_products_quantity.groupby('department')['quantity'].sum()\n",
        "\n",
        "# Sort results in descending order and select the top 5\n",
        "top_5_departments_by_quantity = department_quantity.sort_values(ascending=False).head(5)\n",
        "\n",
        "# Display the top 5\n",
        "display(top_5_departments_by_quantity)"
      ]
    },
    {
      "cell_type": "markdown",
      "id": "5f565e67",
      "metadata": {
        "id": "5f565e67"
      },
      "source": [
        "## Part 4 – Joins for Deeper Insights"
      ]
    },
    {
      "cell_type": "markdown",
      "id": "ef8248f8",
      "metadata": {
        "id": "ef8248f8"
      },
      "source": [
        "\n",
        "**Q8:** Which product is purchased most frequently?  \n",
        "\n",
        "*Hint:* Group by `product_id`, sum quantity, then join to products for description.\n"
      ]
    },
    {
      "cell_type": "code",
      "execution_count": 34,
      "id": "7d702f21",
      "metadata": {
        "colab": {
          "base_uri": "https://localhost:8080/",
          "height": 89
        },
        "id": "7d702f21",
        "outputId": "ac4fe35a-5894-4303-b8bf-5b82fece9228"
      },
      "outputs": [
        {
          "output_type": "display_data",
          "data": {
            "text/plain": [
              "   product_id   quantity  manufacturer_id department    brand  \\\n",
              "0     6534178  126868510               69       FUEL  Private   \n",
              "\n",
              "    product_category           product_type package_size  \n",
              "0  COUPON/MISC ITEMS  GASOLINE-REG UNLEADED         None  "
            ],
            "text/html": [
              "\n",
              "  <div id=\"df-ea8c2764-c441-412c-8f6a-afad28a9c842\" class=\"colab-df-container\">\n",
              "    <div>\n",
              "<style scoped>\n",
              "    .dataframe tbody tr th:only-of-type {\n",
              "        vertical-align: middle;\n",
              "    }\n",
              "\n",
              "    .dataframe tbody tr th {\n",
              "        vertical-align: top;\n",
              "    }\n",
              "\n",
              "    .dataframe thead th {\n",
              "        text-align: right;\n",
              "    }\n",
              "</style>\n",
              "<table border=\"1\" class=\"dataframe\">\n",
              "  <thead>\n",
              "    <tr style=\"text-align: right;\">\n",
              "      <th></th>\n",
              "      <th>product_id</th>\n",
              "      <th>quantity</th>\n",
              "      <th>manufacturer_id</th>\n",
              "      <th>department</th>\n",
              "      <th>brand</th>\n",
              "      <th>product_category</th>\n",
              "      <th>product_type</th>\n",
              "      <th>package_size</th>\n",
              "    </tr>\n",
              "  </thead>\n",
              "  <tbody>\n",
              "    <tr>\n",
              "      <th>0</th>\n",
              "      <td>6534178</td>\n",
              "      <td>126868510</td>\n",
              "      <td>69</td>\n",
              "      <td>FUEL</td>\n",
              "      <td>Private</td>\n",
              "      <td>COUPON/MISC ITEMS</td>\n",
              "      <td>GASOLINE-REG UNLEADED</td>\n",
              "      <td>None</td>\n",
              "    </tr>\n",
              "  </tbody>\n",
              "</table>\n",
              "</div>\n",
              "    <div class=\"colab-df-buttons\">\n",
              "\n",
              "  <div class=\"colab-df-container\">\n",
              "    <button class=\"colab-df-convert\" onclick=\"convertToInteractive('df-ea8c2764-c441-412c-8f6a-afad28a9c842')\"\n",
              "            title=\"Convert this dataframe to an interactive table.\"\n",
              "            style=\"display:none;\">\n",
              "\n",
              "  <svg xmlns=\"http://www.w3.org/2000/svg\" height=\"24px\" viewBox=\"0 -960 960 960\">\n",
              "    <path d=\"M120-120v-720h720v720H120Zm60-500h600v-160H180v160Zm220 220h160v-160H400v160Zm0 220h160v-160H400v160ZM180-400h160v-160H180v160Zm440 0h160v-160H620v160ZM180-180h160v-160H180v160Zm440 0h160v-160H620v160Z\"/>\n",
              "  </svg>\n",
              "    </button>\n",
              "\n",
              "  <style>\n",
              "    .colab-df-container {\n",
              "      display:flex;\n",
              "      gap: 12px;\n",
              "    }\n",
              "\n",
              "    .colab-df-convert {\n",
              "      background-color: #E8F0FE;\n",
              "      border: none;\n",
              "      border-radius: 50%;\n",
              "      cursor: pointer;\n",
              "      display: none;\n",
              "      fill: #1967D2;\n",
              "      height: 32px;\n",
              "      padding: 0 0 0 0;\n",
              "      width: 32px;\n",
              "    }\n",
              "\n",
              "    .colab-df-convert:hover {\n",
              "      background-color: #E2EBFA;\n",
              "      box-shadow: 0px 1px 2px rgba(60, 64, 67, 0.3), 0px 1px 3px 1px rgba(60, 64, 67, 0.15);\n",
              "      fill: #174EA6;\n",
              "    }\n",
              "\n",
              "    .colab-df-buttons div {\n",
              "      margin-bottom: 4px;\n",
              "    }\n",
              "\n",
              "    [theme=dark] .colab-df-convert {\n",
              "      background-color: #3B4455;\n",
              "      fill: #D2E3FC;\n",
              "    }\n",
              "\n",
              "    [theme=dark] .colab-df-convert:hover {\n",
              "      background-color: #434B5C;\n",
              "      box-shadow: 0px 1px 3px 1px rgba(0, 0, 0, 0.15);\n",
              "      filter: drop-shadow(0px 1px 2px rgba(0, 0, 0, 0.3));\n",
              "      fill: #FFFFFF;\n",
              "    }\n",
              "  </style>\n",
              "\n",
              "    <script>\n",
              "      const buttonEl =\n",
              "        document.querySelector('#df-ea8c2764-c441-412c-8f6a-afad28a9c842 button.colab-df-convert');\n",
              "      buttonEl.style.display =\n",
              "        google.colab.kernel.accessAllowed ? 'block' : 'none';\n",
              "\n",
              "      async function convertToInteractive(key) {\n",
              "        const element = document.querySelector('#df-ea8c2764-c441-412c-8f6a-afad28a9c842');\n",
              "        const dataTable =\n",
              "          await google.colab.kernel.invokeFunction('convertToInteractive',\n",
              "                                                    [key], {});\n",
              "        if (!dataTable) return;\n",
              "\n",
              "        const docLinkHtml = 'Like what you see? Visit the ' +\n",
              "          '<a target=\"_blank\" href=https://colab.research.google.com/notebooks/data_table.ipynb>data table notebook</a>'\n",
              "          + ' to learn more about interactive tables.';\n",
              "        element.innerHTML = '';\n",
              "        dataTable['output_type'] = 'display_data';\n",
              "        await google.colab.output.renderOutput(dataTable, element);\n",
              "        const docLink = document.createElement('div');\n",
              "        docLink.innerHTML = docLinkHtml;\n",
              "        element.appendChild(docLink);\n",
              "      }\n",
              "    </script>\n",
              "  </div>\n",
              "\n",
              "\n",
              "  <div id=\"id_8e44657e-03e3-4ac1-a336-0366e3b42bbe\">\n",
              "    <style>\n",
              "      .colab-df-generate {\n",
              "        background-color: #E8F0FE;\n",
              "        border: none;\n",
              "        border-radius: 50%;\n",
              "        cursor: pointer;\n",
              "        display: none;\n",
              "        fill: #1967D2;\n",
              "        height: 32px;\n",
              "        padding: 0 0 0 0;\n",
              "        width: 32px;\n",
              "      }\n",
              "\n",
              "      .colab-df-generate:hover {\n",
              "        background-color: #E2EBFA;\n",
              "        box-shadow: 0px 1px 2px rgba(60, 64, 67, 0.3), 0px 1px 3px 1px rgba(60, 64, 67, 0.15);\n",
              "        fill: #174EA6;\n",
              "      }\n",
              "\n",
              "      [theme=dark] .colab-df-generate {\n",
              "        background-color: #3B4455;\n",
              "        fill: #D2E3FC;\n",
              "      }\n",
              "\n",
              "      [theme=dark] .colab-df-generate:hover {\n",
              "        background-color: #434B5C;\n",
              "        box-shadow: 0px 1px 3px 1px rgba(0, 0, 0, 0.15);\n",
              "        filter: drop-shadow(0px 1px 2px rgba(0, 0, 0, 0.3));\n",
              "        fill: #FFFFFF;\n",
              "      }\n",
              "    </style>\n",
              "    <button class=\"colab-df-generate\" onclick=\"generateWithVariable('most_frequent_product_details')\"\n",
              "            title=\"Generate code using this dataframe.\"\n",
              "            style=\"display:none;\">\n",
              "\n",
              "  <svg xmlns=\"http://www.w3.org/2000/svg\" height=\"24px\"viewBox=\"0 0 24 24\"\n",
              "       width=\"24px\">\n",
              "    <path d=\"M7,19H8.4L18.45,9,17,7.55,7,17.6ZM5,21V16.75L18.45,3.32a2,2,0,0,1,2.83,0l1.4,1.43a1.91,1.91,0,0,1,.58,1.4,1.91,1.91,0,0,1-.58,1.4L9.25,21ZM18.45,9,17,7.55Zm-12,3A5.31,5.31,0,0,0,4.9,8.1,5.31,5.31,0,0,0,1,6.5,5.31,5.31,0,0,0,4.9,4.9,5.31,5.31,0,0,0,6.5,1,5.31,5.31,0,0,0,8.1,4.9,5.31,5.31,0,0,0,12,6.5,5.46,5.46,0,0,0,6.5,12Z\"/>\n",
              "  </svg>\n",
              "    </button>\n",
              "    <script>\n",
              "      (() => {\n",
              "      const buttonEl =\n",
              "        document.querySelector('#id_8e44657e-03e3-4ac1-a336-0366e3b42bbe button.colab-df-generate');\n",
              "      buttonEl.style.display =\n",
              "        google.colab.kernel.accessAllowed ? 'block' : 'none';\n",
              "\n",
              "      buttonEl.onclick = () => {\n",
              "        google.colab.notebook.generateWithVariable('most_frequent_product_details');\n",
              "      }\n",
              "      })();\n",
              "    </script>\n",
              "  </div>\n",
              "\n",
              "    </div>\n",
              "  </div>\n"
            ],
            "application/vnd.google.colaboratory.intrinsic+json": {
              "type": "dataframe",
              "variable_name": "most_frequent_product_details",
              "repr_error": "Out of range float values are not JSON compliant: nan"
            }
          },
          "metadata": {}
        }
      ],
      "source": [
        "# Group by product_id and sum quantity\n",
        "product_quantity = transactions.groupby('product_id')['quantity'].sum()\n",
        "\n",
        "# Find the product with the highest quantity and join to products for description\n",
        "most_frequent_product = product_quantity.sort_values(ascending=False).head(1)\n",
        "\n",
        "# Join with products dataframe to get product description\n",
        "most_frequent_product_details = pd.merge(most_frequent_product, products, on='product_id', how='inner')\n",
        "\n",
        "# Display the most frequently purchased product\n",
        "display(most_frequent_product_details)"
      ]
    },
    {
      "cell_type": "markdown",
      "id": "5ea4c389",
      "metadata": {
        "id": "5ea4c389"
      },
      "source": [
        "\n",
        "**Q9:** Identify all products with “pizza” in `product_type` and find the one with the greatest total sales.  \n",
        "\n",
        "*Hint:* Filter products where product_type contains \"pizza\" with `.str.contains(\"pizza\", case=False, na=False)`, join to transactions, sum sales by product.\n"
      ]
    },
    {
      "cell_type": "code",
      "execution_count": 35,
      "id": "a57882c0",
      "metadata": {
        "colab": {
          "base_uri": "https://localhost:8080/",
          "height": 147
        },
        "id": "a57882c0",
        "outputId": "115b7b4f-e41e-4a6b-d614-f0292a937f99"
      },
      "outputs": [
        {
          "output_type": "display_data",
          "data": {
            "text/plain": [
              "product_id  product_type     \n",
              "944139      PIZZA/TRADITIONAL    1344.5\n",
              "Name: sales_value, dtype: float64"
            ],
            "text/html": [
              "<div>\n",
              "<style scoped>\n",
              "    .dataframe tbody tr th:only-of-type {\n",
              "        vertical-align: middle;\n",
              "    }\n",
              "\n",
              "    .dataframe tbody tr th {\n",
              "        vertical-align: top;\n",
              "    }\n",
              "\n",
              "    .dataframe thead th {\n",
              "        text-align: right;\n",
              "    }\n",
              "</style>\n",
              "<table border=\"1\" class=\"dataframe\">\n",
              "  <thead>\n",
              "    <tr style=\"text-align: right;\">\n",
              "      <th></th>\n",
              "      <th></th>\n",
              "      <th>sales_value</th>\n",
              "    </tr>\n",
              "    <tr>\n",
              "      <th>product_id</th>\n",
              "      <th>product_type</th>\n",
              "      <th></th>\n",
              "    </tr>\n",
              "  </thead>\n",
              "  <tbody>\n",
              "    <tr>\n",
              "      <th>944139</th>\n",
              "      <th>PIZZA/TRADITIONAL</th>\n",
              "      <td>1344.5</td>\n",
              "    </tr>\n",
              "  </tbody>\n",
              "</table>\n",
              "</div><br><label><b>dtype:</b> float64</label>"
            ]
          },
          "metadata": {}
        }
      ],
      "source": [
        "# Filter products for \"pizza\" in product_type\n",
        "pizza_products = products[products['product_type'].str.contains(\"pizza\", case=False, na=False)]\n",
        "\n",
        "# Join with transactions\n",
        "pizza_transactions = pd.merge(transactions, pizza_products, on='product_id', how='inner')\n",
        "\n",
        "# Group by product and sum sales\n",
        "pizza_sales = pizza_transactions.groupby(['product_id', 'product_type'])['sales_value'].sum()\n",
        "\n",
        "# Find the pizza product with the greatest total sales\n",
        "top_pizza_product = pizza_sales.sort_values(ascending=False).head(1)\n",
        "\n",
        "# Display the result\n",
        "display(top_pizza_product)"
      ]
    },
    {
      "cell_type": "markdown",
      "id": "80acd9c5",
      "metadata": {
        "id": "80acd9c5"
      },
      "source": [
        "\n",
        "**Q10:** Which product category brings in the most revenue for the highest-income households with kids?\n",
        "\n",
        "*Hint:* Filter demographics for the highest income level & `kid_count > 0`, join to transactions and products, group by category and compute the sum of sales value.\n"
      ]
    },
    {
      "cell_type": "code",
      "execution_count": 36,
      "id": "26e047d7",
      "metadata": {
        "colab": {
          "base_uri": "https://localhost:8080/",
          "height": 147
        },
        "id": "26e047d7",
        "outputId": "bdb56db4-98a5-42cf-b121-b2a2bce5af50"
      },
      "outputs": [
        {
          "output_type": "display_data",
          "data": {
            "text/plain": [
              "product_category\n",
              "COUPON/MISC ITEMS    8068.4\n",
              "Name: sales_value, dtype: float64"
            ],
            "text/html": [
              "<div>\n",
              "<style scoped>\n",
              "    .dataframe tbody tr th:only-of-type {\n",
              "        vertical-align: middle;\n",
              "    }\n",
              "\n",
              "    .dataframe tbody tr th {\n",
              "        vertical-align: top;\n",
              "    }\n",
              "\n",
              "    .dataframe thead th {\n",
              "        text-align: right;\n",
              "    }\n",
              "</style>\n",
              "<table border=\"1\" class=\"dataframe\">\n",
              "  <thead>\n",
              "    <tr style=\"text-align: right;\">\n",
              "      <th></th>\n",
              "      <th>sales_value</th>\n",
              "    </tr>\n",
              "    <tr>\n",
              "      <th>product_category</th>\n",
              "      <th></th>\n",
              "    </tr>\n",
              "  </thead>\n",
              "  <tbody>\n",
              "    <tr>\n",
              "      <th>COUPON/MISC ITEMS</th>\n",
              "      <td>8068.4</td>\n",
              "    </tr>\n",
              "  </tbody>\n",
              "</table>\n",
              "</div><br><label><b>dtype:</b> float64</label>"
            ]
          },
          "metadata": {}
        }
      ],
      "source": [
        "# Filter demographics for the highest income level and kids_count > 0\n",
        "highest_income_kids_households = demographics[(demographics['income'] == '250K+') | (demographics['income'] == '175-199K') | (demographics['income'] == '200-249K') & (demographics['kids_count'] != 0)]\n",
        "\n",
        "# Join with transactions\n",
        "highest_income_kids_transactions = pd.merge(transactions, highest_income_kids_households, on='household_id', how='inner')\n",
        "\n",
        "# Join with products\n",
        "highest_income_kids_products = pd.merge(highest_income_kids_transactions, products, on='product_id', how='inner')\n",
        "\n",
        "# Group by product category and compute the sum of sales value\n",
        "category_revenue = highest_income_kids_products.groupby('product_category')['sales_value'].sum()\n",
        "\n",
        "# Find the product category with the highest revenue\n",
        "top_category_highest_income_kids = category_revenue.sort_values(ascending=False).head(1)\n",
        "\n",
        "# Display the result\n",
        "display(top_category_highest_income_kids)"
      ]
    },
    {
      "cell_type": "markdown",
      "id": "3ea516d0",
      "metadata": {
        "id": "3ea516d0"
      },
      "source": [
        "\n",
        "**Q11:** Which manufacturer has the highest total sales, and which department do they primarily sell in?  \n",
        "\n",
        "*Hint:* Join transactions to products, group by manufacturer, sum sales, find top. Then, filter products for that top manufacturer and check which department(s) they are associated with.\n"
      ]
    },
    {
      "cell_type": "code",
      "execution_count": 37,
      "id": "e4f10690",
      "metadata": {
        "colab": {
          "base_uri": "https://localhost:8080/"
        },
        "id": "e4f10690",
        "outputId": "17245b0f-551c-45b0-ba53-e20d9fa4a1e0"
      },
      "outputs": [
        {
          "output_type": "stream",
          "name": "stdout",
          "text": [
            "The manufacturer with the highest total sales is Manufacturer ID: 69\n",
            "They primarily sell in the department: GROCERY\n"
          ]
        }
      ],
      "source": [
        "# Join transactions to products\n",
        "transactions_products_manufacturer = pd.merge(transactions, products, on='product_id', how='inner')\n",
        "\n",
        "# Group by manufacturer and sum sales\n",
        "manufacturer_sales = transactions_products_manufacturer.groupby('manufacturer_id')['sales_value'].sum()\n",
        "\n",
        "# Find the manufacturer with the highest sales\n",
        "top_manufacturer_id = manufacturer_sales.sort_values(ascending=False).head(1).index[0]\n",
        "print(f\"The manufacturer with the highest total sales is Manufacturer ID: {top_manufacturer_id}\")\n",
        "\n",
        "# Filter products for the top manufacturer and find their primary department\n",
        "top_manufacturer_products = products[products['manufacturer_id'] == top_manufacturer_id]\n",
        "\n",
        "# Count the occurrences of each department for the top manufacturer\n",
        "department_counts = top_manufacturer_products['department'].value_counts()\n",
        "\n",
        "# Get the primary department (the one with the highest count)\n",
        "primary_department = department_counts.index[0]\n",
        "print(f\"They primarily sell in the department: {primary_department}\")"
      ]
    },
    {
      "cell_type": "markdown",
      "id": "f0837292",
      "metadata": {
        "id": "f0837292"
      },
      "source": [
        "\n",
        "**Q12:** For each income level, what is the most frequently purchased product category?  \n",
        "\n",
        "*Hint:* Join demographics → transactions → products, group by income & category, count quantity, get top per income.\n"
      ]
    },
    {
      "cell_type": "code",
      "execution_count": 38,
      "id": "572f6424",
      "metadata": {
        "colab": {
          "base_uri": "https://localhost:8080/",
          "height": 492
        },
        "id": "572f6424",
        "outputId": "ab858d98-e50a-4c8e-eb1e-735b39be7f9d"
      },
      "outputs": [
        {
          "output_type": "display_data",
          "data": {
            "text/plain": [
              "income\n",
              "100-124K      (100-124K, COUPON/MISC ITEMS)\n",
              "125-149K      (125-149K, COUPON/MISC ITEMS)\n",
              "15-24K          (15-24K, COUPON/MISC ITEMS)\n",
              "150-174K      (150-174K, COUPON/MISC ITEMS)\n",
              "175-199K      (175-199K, COUPON/MISC ITEMS)\n",
              "200-249K      (200-249K, COUPON/MISC ITEMS)\n",
              "25-34K          (25-34K, COUPON/MISC ITEMS)\n",
              "250K+            (250K+, COUPON/MISC ITEMS)\n",
              "35-49K          (35-49K, COUPON/MISC ITEMS)\n",
              "50-74K          (50-74K, COUPON/MISC ITEMS)\n",
              "75-99K          (75-99K, COUPON/MISC ITEMS)\n",
              "Under 15K    (Under 15K, COUPON/MISC ITEMS)\n",
              "Name: quantity, dtype: object"
            ],
            "text/html": [
              "<div>\n",
              "<style scoped>\n",
              "    .dataframe tbody tr th:only-of-type {\n",
              "        vertical-align: middle;\n",
              "    }\n",
              "\n",
              "    .dataframe tbody tr th {\n",
              "        vertical-align: top;\n",
              "    }\n",
              "\n",
              "    .dataframe thead th {\n",
              "        text-align: right;\n",
              "    }\n",
              "</style>\n",
              "<table border=\"1\" class=\"dataframe\">\n",
              "  <thead>\n",
              "    <tr style=\"text-align: right;\">\n",
              "      <th></th>\n",
              "      <th>quantity</th>\n",
              "    </tr>\n",
              "    <tr>\n",
              "      <th>income</th>\n",
              "      <th></th>\n",
              "    </tr>\n",
              "  </thead>\n",
              "  <tbody>\n",
              "    <tr>\n",
              "      <th>100-124K</th>\n",
              "      <td>(100-124K, COUPON/MISC ITEMS)</td>\n",
              "    </tr>\n",
              "    <tr>\n",
              "      <th>125-149K</th>\n",
              "      <td>(125-149K, COUPON/MISC ITEMS)</td>\n",
              "    </tr>\n",
              "    <tr>\n",
              "      <th>15-24K</th>\n",
              "      <td>(15-24K, COUPON/MISC ITEMS)</td>\n",
              "    </tr>\n",
              "    <tr>\n",
              "      <th>150-174K</th>\n",
              "      <td>(150-174K, COUPON/MISC ITEMS)</td>\n",
              "    </tr>\n",
              "    <tr>\n",
              "      <th>175-199K</th>\n",
              "      <td>(175-199K, COUPON/MISC ITEMS)</td>\n",
              "    </tr>\n",
              "    <tr>\n",
              "      <th>200-249K</th>\n",
              "      <td>(200-249K, COUPON/MISC ITEMS)</td>\n",
              "    </tr>\n",
              "    <tr>\n",
              "      <th>25-34K</th>\n",
              "      <td>(25-34K, COUPON/MISC ITEMS)</td>\n",
              "    </tr>\n",
              "    <tr>\n",
              "      <th>250K+</th>\n",
              "      <td>(250K+, COUPON/MISC ITEMS)</td>\n",
              "    </tr>\n",
              "    <tr>\n",
              "      <th>35-49K</th>\n",
              "      <td>(35-49K, COUPON/MISC ITEMS)</td>\n",
              "    </tr>\n",
              "    <tr>\n",
              "      <th>50-74K</th>\n",
              "      <td>(50-74K, COUPON/MISC ITEMS)</td>\n",
              "    </tr>\n",
              "    <tr>\n",
              "      <th>75-99K</th>\n",
              "      <td>(75-99K, COUPON/MISC ITEMS)</td>\n",
              "    </tr>\n",
              "    <tr>\n",
              "      <th>Under 15K</th>\n",
              "      <td>(Under 15K, COUPON/MISC ITEMS)</td>\n",
              "    </tr>\n",
              "  </tbody>\n",
              "</table>\n",
              "</div><br><label><b>dtype:</b> object</label>"
            ]
          },
          "metadata": {}
        }
      ],
      "source": [
        "# Join demographics to transactions\n",
        "demographics_transactions = pd.merge(demographics, transactions, on='household_id', how='inner')\n",
        "\n",
        "# Join with products\n",
        "demographics_transactions_products = pd.merge(demographics_transactions, products, on='product_id', how='inner')\n",
        "\n",
        "# Group by income and product category, and count quantity\n",
        "income_category_quantity = demographics_transactions_products.groupby(['income', 'product_category'])['quantity'].sum()\n",
        "\n",
        "# Find the most frequently purchased product category for each income level\n",
        "most_frequent_category_by_income = income_category_quantity.groupby('income').idxmax()\n",
        "\n",
        "# Display the result\n",
        "display(most_frequent_category_by_income)"
      ]
    },
    {
      "cell_type": "markdown",
      "id": "6f748c3b",
      "metadata": {
        "id": "6f748c3b"
      },
      "source": [
        "## Homework Deliverable"
      ]
    },
    {
      "cell_type": "markdown",
      "id": "5ce8a2b0",
      "metadata": {
        "id": "5ce8a2b0"
      },
      "source": [
        "\n",
        "- Implement the code to answer the above questions.  \n",
        "- Once you have all your answers, go to the homework quiz on Canvas and submit your answers.  \n",
        "- Save your notebook — you'll upload it on Canvas as part of the homework.\n"
      ]
    }
  ],
  "metadata": {
    "language_info": {
      "name": "python"
    },
    "colab": {
      "provenance": [],
      "include_colab_link": true
    },
    "kernelspec": {
      "name": "python3",
      "display_name": "Python 3"
    }
  },
  "nbformat": 4,
  "nbformat_minor": 5
}