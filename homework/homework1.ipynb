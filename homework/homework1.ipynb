{
  "cells": [
    {
      "cell_type": "markdown",
      "metadata": {
        "id": "view-in-github",
        "colab_type": "text"
      },
      "source": [
        "<a href=\"https://colab.research.google.com/github/stampejp/data-mining/blob/master/homework/homework1.ipynb\" target=\"_parent\"><img src=\"https://colab.research.google.com/assets/colab-badge.svg\" alt=\"Open In Colab\"/></a>"
      ]
    },
    {
      "cell_type": "markdown",
      "id": "91b9c341",
      "metadata": {
        "id": "91b9c341"
      },
      "source": [
        "# 📝 Homework 1: Python Basics, Jupyter, and Data Structures\n",
        "\n",
        "---\n",
        "\n",
        "## 📂 Instructions\n",
        "\n",
        "Complete the tasks below in this Jupyter notebook. Most tasks require you to write Python code and use the output to answer **a separate online quiz**.\n",
        "\n",
        "At the end, you’ll also upload:\n",
        "\n",
        "- This completed `.ipynb` notebook\n",
        "- Your **bio notebook** (from Lab 2) as a **PDF**\n",
        "\n",
        "Let’s begin!\n",
        "\n",
        "<a href=\"https://colab.research.google.com/github/bradleyboehmke/uc-bana-4080/blob/main/homework/homework1.ipynb\" target=\"_parent\"><img src=\"https://colab.research.google.com/assets/colab-badge.svg\" alt=\"Open In Colab\"/></a>\n",
        "\n",
        "---\n"
      ]
    },
    {
      "cell_type": "markdown",
      "id": "f91e2994",
      "metadata": {
        "id": "f91e2994"
      },
      "source": [
        "## 1. Basic Python & Variables\n",
        "\n",
        "### 1.0. Budget Comparison Challenge\n",
        "\n",
        "You're organizing an event. Your current budget is $1,000.\n",
        "\n",
        "- You expect 75 attendees.\n",
        "- Each attendee costs $12.25 to serve (including food and materials).\n",
        "- Calculate the **total cost** of the event.\n",
        "- Compare the total cost to your budget.\n",
        "- Print a message that says whether you're **within budget** or **over budget**.\n",
        "\n",
        "➡️ Use your result to answer the quiz question: Are you over or under budget?\n"
      ]
    },
    {
      "cell_type": "code",
      "execution_count": 2,
      "id": "f4e1c4ed",
      "metadata": {
        "id": "f4e1c4ed",
        "outputId": "9130d8a9-b2e5-4abc-bd75-bdf5da16c32d",
        "colab": {
          "base_uri": "https://localhost:8080/"
        }
      },
      "outputs": [
        {
          "output_type": "stream",
          "name": "stdout",
          "text": [
            "Total cost: $918.75\n",
            "Within budget: True\n"
          ]
        }
      ],
      "source": [
        "# Your code here\n",
        "# Calculate total cost\n",
        "# Compare to budget and print result\n",
        "attendees = 75\n",
        "cost_per_person = 12.25\n",
        "budget = 1000\n",
        "\n",
        "total_cost = attendees * cost_per_person\n",
        "within_budget = total_cost <= budget\n",
        "\n",
        "print(f\"Total cost: ${total_cost}\")\n",
        "print(f\"Within budget: {within_budget}\")"
      ]
    },
    {
      "cell_type": "markdown",
      "id": "48cf6001",
      "metadata": {
        "id": "48cf6001"
      },
      "source": [
        "### 1.1. Ticket Revenue\n",
        "\n",
        "Your club sold 56 tickets to an event, priced at $10.50 each.\n",
        "\n",
        "👉 What is the **total revenue**?\n",
        "\n",
        "\n",
        "➡️ Use your result to answer the quiz question about total revenue."
      ]
    },
    {
      "cell_type": "code",
      "execution_count": 5,
      "id": "041eb8c7",
      "metadata": {
        "id": "041eb8c7",
        "outputId": "b0f0a8f3-a2a6-45e5-ad94-43fa76c957f7",
        "colab": {
          "base_uri": "https://localhost:8080/"
        }
      },
      "outputs": [
        {
          "output_type": "stream",
          "name": "stdout",
          "text": [
            "Total revenue: $588.0\n"
          ]
        }
      ],
      "source": [
        "# Your code here\n",
        "# calculate total revenue\n",
        "tickets_sold = 56\n",
        "ticket_price = 10.50\n",
        "\n",
        "total_revenue= tickets_sold * ticket_price\n",
        "print(f\"Total revenue: ${total_revenue}\")"
      ]
    },
    {
      "cell_type": "markdown",
      "id": "0a96c310",
      "metadata": {
        "id": "0a96c310"
      },
      "source": [
        "### 1.2. Pizza Cost per Square Inch Comparison\n",
        "\n",
        "You’re deciding between two pizzas:\n",
        "\n",
        "- A 13-inch pizza that costs $18\n",
        "- A 15-inch pizza that costs $20.50\n",
        "\n",
        "Using the formula for the area of a circle \\(A = πr²\\), compute the **cost per square inch** for both pizzas. 👉 Use the equation: **cost per square inch = total cost ÷ area of the pizza.**\n",
        "\n",
        "➡️ Use your result to answer the quiz: Which pizza is cheaper per square inch?"
      ]
    },
    {
      "cell_type": "code",
      "execution_count": 7,
      "id": "a9c8f311",
      "metadata": {
        "id": "a9c8f311",
        "outputId": "f89426dc-b160-4e86-d175-fa471a41d36d",
        "colab": {
          "base_uri": "https://localhost:8080/"
        }
      },
      "outputs": [
        {
          "output_type": "stream",
          "name": "stdout",
          "text": [
            "Pizza 13 cost per square inch: $0.13561142700307166\n",
            "Pizza 15 cost per square inch: $0.11600636761781277\n"
          ]
        }
      ],
      "source": [
        "# Your code here\n",
        "# Use 3.14159 for π\n",
        "# Calculate and compare the cost per square inch for both pizzas\n",
        "\n",
        "pizza_13_cost = 18\n",
        "pizza_15_cost = 20.50\n",
        "\n",
        "pizza_13_area = 3.14159 * (13/2)**2\n",
        "pizza_15_area = 3.14159 * (15/2)**2\n",
        "\n",
        "pizza_13_cost_per_sq_inch = pizza_13_cost / pizza_13_area\n",
        "pizza_15_cost_per_sq_inch = pizza_15_cost / pizza_15_area\n",
        "\n",
        "print(f\"Pizza 13 cost per square inch: ${pizza_13_cost_per_sq_inch}\")\n",
        "print(f\"Pizza 15 cost per square inch: ${pizza_15_cost_per_sq_inch}\")"
      ]
    },
    {
      "cell_type": "markdown",
      "id": "35197431",
      "metadata": {
        "id": "35197431"
      },
      "source": [
        "### 1.3. String Computation Challenge\n",
        "\n",
        "You are analyzing a dataset of movie titles. Start with the following string:\n",
        "\n",
        "```python\n",
        "movie_title = \"The Lord of the Rings: The Return of the King\"\n",
        "```\n",
        "\n",
        "- Count how many characters are in the title using the `len()` function.\n",
        "- Convert the title to all uppercase.\n",
        "- Check if the word \"King\" is in the title:\n",
        "\n",
        "```python\n",
        "# hint\n",
        "contains_king = \"King\" in _____\n",
        "print(\"Contains 'King':\", contains_king)\n",
        "```\n",
        "\n",
        "➡️ Use your result to answer a quiz question about the number of characters."
      ]
    },
    {
      "cell_type": "code",
      "execution_count": 8,
      "id": "46817a2a",
      "metadata": {
        "id": "46817a2a",
        "outputId": "d4c15654-6122-4cb8-a38f-602ab0f1dc0d",
        "colab": {
          "base_uri": "https://localhost:8080/"
        }
      },
      "outputs": [
        {
          "output_type": "stream",
          "name": "stdout",
          "text": [
            "Number of characters in the title: 45\n",
            "Title in uppercase: THE LORD OF THE RINGS: THE RETURN OF THE KING\n",
            "Contains 'King': True\n"
          ]
        }
      ],
      "source": [
        "# Your code here\n",
        "movie_title = \"The Lord of the Rings: The Return of the King\"\n",
        "\n",
        "# Count the number of characters in the title\n",
        "num_characters = len(movie_title)\n",
        "print(f\"Number of characters in the title: {num_characters}\")\n",
        "\n",
        "#Convert the title to all uppercase\n",
        "movie_title_uppercase = movie_title.upper()\n",
        "print(\"Title in uppercase:\", movie_title_uppercase)\n",
        "\n",
        "# Check if the word \"King\" is in the title\n",
        "contains_king = \"King\" in movie_title\n",
        "print(\"Contains 'King':\", contains_king)"
      ]
    },
    {
      "cell_type": "markdown",
      "id": "66b1f9c8",
      "metadata": {
        "id": "66b1f9c8"
      },
      "source": [
        "## 2. Data Structures\n",
        "\n",
        "### 2.1. Lists\n",
        "\n",
        "Start with the following list:\n",
        "\n",
        "```python\n",
        "playlist = [\"Let It Be\", \"Hey Jude\", \"Blackbird\", \"Yesterday\", \"Come Together\"]\n",
        "```\n",
        "\n",
        "- Print the third song.\n",
        "- Add \"Something\" and \"Eleanor Rigby\" to the list.\n",
        "- Remove \"Yesterday\" from the list.\n",
        "- Print the final list.\n",
        "\n",
        "➡️ Use your final list to answer a quiz question."
      ]
    },
    {
      "cell_type": "code",
      "execution_count": 10,
      "id": "a3c11d5a",
      "metadata": {
        "id": "a3c11d5a",
        "outputId": "e761de07-6abb-4b5e-f470-631499b2f96b",
        "colab": {
          "base_uri": "https://localhost:8080/"
        }
      },
      "outputs": [
        {
          "output_type": "stream",
          "name": "stdout",
          "text": [
            "Third song: Blackbird\n",
            "['Let It Be', 'Hey Jude', 'Blackbird', 'Come Together', 'Something', 'Eleanor Rigby']\n"
          ]
        }
      ],
      "source": [
        "# code here\n",
        "playlist = [\"Let It Be\", \"Hey Jude\", \"Blackbird\", \"Yesterday\", \"Come Together\"]\n",
        "\n",
        "#Print third song\n",
        "print(\"Third song:\", playlist[2])\n",
        "\n",
        "# Add \"Something\" and \"Eleanor Rigby\" to the list\n",
        "playlist.append(\"Something\")\n",
        "playlist.append(\"Eleanor Rigby\")\n",
        "\n",
        "# Remove \"Yesterday\" from the list\n",
        "playlist.remove(\"Yesterday\")\n",
        "\n",
        "print(playlist)"
      ]
    },
    {
      "cell_type": "markdown",
      "id": "04f8e0ec",
      "metadata": {
        "id": "04f8e0ec"
      },
      "source": [
        "### 2.2. Tuples\n",
        "\n",
        "Create a tuple called `coordinates` with the following values representing the (latitude, longitude): `(39.7589, -84.1916)`\n",
        "\n",
        "- Print the latitude.\n",
        "- Try changing the second value (longitude) to something else. What happens?\n",
        "- Unpack the tuple into `lat` and `lon` and print each.\n",
        "\n",
        "➡️ One quiz question will ask what specific error they get when trying to modify a tuple."
      ]
    },
    {
      "cell_type": "code",
      "execution_count": 19,
      "id": "ce88be42",
      "metadata": {
        "id": "ce88be42",
        "outputId": "61db3507-cf50-440e-f1ef-b9da4bc0a16a",
        "colab": {
          "base_uri": "https://localhost:8080/"
        }
      },
      "outputs": [
        {
          "output_type": "stream",
          "name": "stdout",
          "text": [
            "Latitude: 39.7589\n",
            "Latitude: 39.7589\n",
            "Longitude: -84.1916\n"
          ]
        }
      ],
      "source": [
        "# Your code here\n",
        "\n",
        "coordinates = (39.7589, -84.1916)\n",
        "\n",
        "# Print the latitude\n",
        "print(\"Latitude:\", coordinates[0])\n",
        "\n",
        "#Print lat and lon\n",
        "\n",
        "lat, lon = coordinates\n",
        "print(\"Latitude:\", lat)\n",
        "print(\"Longitude:\", lon)"
      ]
    },
    {
      "cell_type": "markdown",
      "id": "2f8e05bb",
      "metadata": {
        "id": "2f8e05bb"
      },
      "source": [
        "### 2.3. Dictionaries\n",
        "\n",
        "Create a dictionary containing these key-value pairs representing course names and their respective grades:\n",
        "\n",
        "- \"Math\": 90\n",
        "- \"History\": 85\n",
        "- \"Biology\": 88\n",
        "\n",
        "Now, with this dictionary perform the following tasks:\n",
        "\n",
        "- Print the grade for History.\n",
        "- Add a new course: \"English\" with grade 92.\n",
        "- Update Biology to 90.\n",
        "\n",
        "➡️ You’ll answer a quiz question about your dictionary contents."
      ]
    },
    {
      "cell_type": "code",
      "execution_count": 20,
      "id": "cdf9855e",
      "metadata": {
        "id": "cdf9855e",
        "outputId": "31d361bf-197f-4202-fbb7-6401cf15fb59",
        "colab": {
          "base_uri": "https://localhost:8080/"
        }
      },
      "outputs": [
        {
          "output_type": "stream",
          "name": "stdout",
          "text": [
            "History grade: 85\n",
            "{'Math': 90, 'History': 85, 'Biology': 90, 'English': 92}\n"
          ]
        }
      ],
      "source": [
        "# code here\n",
        "\n",
        "#Create dictionary\n",
        "grades = {\n",
        "    \"Math\": 90,\n",
        "    \"History\": 85,\n",
        "    \"Biology\": 88\n",
        "}\n",
        "\n",
        "#Print History grade\n",
        "print(\"History grade:\", grades[\"History\"])\n",
        "\n",
        "#Add English\n",
        "grades[\"English\"] = 92\n",
        "\n",
        "#Update Biology\n",
        "grades[\"Biology\"] = 90\n",
        "\n",
        "print(grades)"
      ]
    },
    {
      "cell_type": "markdown",
      "id": "4c620eca",
      "metadata": {
        "id": "4c620eca"
      },
      "source": [
        "### 2.4. Sets\n",
        "\n",
        "Start with this set:\n",
        "\n",
        "```python\n",
        "favorite_colors = {\"blue\", \"green\", \"red\", \"purple\"}\n",
        "```\n",
        "\n",
        "- Add \"blue\" again to the set.\n",
        "- Add a new color \"orange\" to the set.\n",
        "- Print the final set.\n",
        "\n",
        "➡️ Answer a quiz question about the final set contents."
      ]
    },
    {
      "cell_type": "code",
      "execution_count": 21,
      "id": "b8f3fb4b",
      "metadata": {
        "id": "b8f3fb4b",
        "outputId": "ff8f2dbb-3d19-4b65-e5ab-edb2c3fed56e",
        "colab": {
          "base_uri": "https://localhost:8080/"
        }
      },
      "outputs": [
        {
          "output_type": "stream",
          "name": "stdout",
          "text": [
            "{'green', 'purple', 'blue', 'orange', 'red'}\n"
          ]
        }
      ],
      "source": [
        "# code here\n",
        "\n",
        "favorite_colors = {\"blue\", \"green\", \"red\", \"purple\"}\n",
        "\n",
        "#Add blue again\n",
        "favorite_colors.add(\"blue\")\n",
        "\n",
        "#Add orange\n",
        "favorite_colors.add(\"orange\")\n",
        "\n",
        "print(favorite_colors)"
      ]
    },
    {
      "cell_type": "markdown",
      "id": "04c6ff7c",
      "metadata": {
        "id": "04c6ff7c"
      },
      "source": [
        "## 3. Libraries\n",
        "\n",
        "### 3.1. Days Until Christmas 🎄\n",
        "\n",
        "Use Python’s `datetime` module to calculate how many days are between **July 4, 2025** and **December 25, 2025**.\n",
        "\n",
        "➡️ Quiz will ask how many days are left."
      ]
    },
    {
      "cell_type": "code",
      "execution_count": 31,
      "id": "d64766a5",
      "metadata": {
        "id": "d64766a5",
        "outputId": "13255a06-9c40-4d70-eff2-90df227ae7cf",
        "colab": {
          "base_uri": "https://localhost:8080/"
        }
      },
      "outputs": [
        {
          "output_type": "stream",
          "name": "stdout",
          "text": [
            "Days between dates: 174\n"
          ]
        }
      ],
      "source": [
        "# Your code here\n",
        "\n",
        "from datetime import date\n",
        "\n",
        "# Days between dates\n",
        "december_date = date(2025, 12, 25)\n",
        "july_date = date(2025, 7, 4)\n",
        "days_left = (december_date - july_date).days\n",
        "\n",
        "print(f\"Days between dates: {days_left}\")"
      ]
    },
    {
      "cell_type": "markdown",
      "id": "8e5c9ca7",
      "metadata": {
        "id": "8e5c9ca7"
      },
      "source": [
        "### 3.2. Dice Roll 🎲\n",
        "\n",
        "Import the `random` library. Use `random.randint` to simulate two 6-sided dice rolls and compute their total. Set a random seed using `random.seed(42)` so everyone gets the same result.\n",
        "\n",
        "➡️ Quiz will ask what range of values your simulation could return."
      ]
    },
    {
      "cell_type": "code",
      "execution_count": 32,
      "id": "5aaeccad",
      "metadata": {
        "id": "5aaeccad",
        "outputId": "607eae83-f7a4-4264-b658-5bcbef3c82f9",
        "colab": {
          "base_uri": "https://localhost:8080/"
        }
      },
      "outputs": [
        {
          "output_type": "stream",
          "name": "stdout",
          "text": [
            "Total from the two dice rolls: 7\n"
          ]
        }
      ],
      "source": [
        "import random\n",
        "random.seed(42)\n",
        "\n",
        "# Simulate rolling two dice and computing their total\n",
        "roll1 = random.randint(1, 6)\n",
        "roll2 = random.randint(1, 6)\n",
        "total = roll1 + roll2\n",
        "print(\"Total from the two dice rolls:\", total)\n",
        "\n",
        "# ✍️ Fill in the blank in the quiz:\n",
        "# What is the result of the dice roll simulation? (total = 7)"
      ]
    },
    {
      "cell_type": "markdown",
      "id": "0e87f6d0",
      "metadata": {
        "id": "0e87f6d0"
      },
      "source": [
        "### 3.3. Bonus: Third-Party Library\n",
        "\n",
        "(🎁 Optional) Install and import a third-party library of your choice using `pip`. Try printing something from it."
      ]
    },
    {
      "cell_type": "code",
      "execution_count": null,
      "id": "028a3b9a",
      "metadata": {
        "id": "028a3b9a"
      },
      "outputs": [],
      "source": [
        "# Example:\n",
        "!pip install rich\n",
        "from rich import print\n",
        "print(\"This is styled output!\")"
      ]
    },
    {
      "cell_type": "markdown",
      "id": "629cba51",
      "metadata": {
        "id": "629cba51"
      },
      "source": [
        "## 4. Submit Your Bio Notebook\n",
        "\n",
        "Open the personal bio notebook you created in Lab 2.\n",
        "\n",
        "✅ Double-check that it includes:\n",
        "\n",
        "- A formatted title and description\n",
        "- A photo of yourself\n",
        "- Academic and professional background\n",
        "- Python code output at the end\n",
        "\n",
        "📄 Export it as a **PDF** and upload it to Canvas along with this notebook."
      ]
    },
    {
      "cell_type": "markdown",
      "id": "e7f0447b",
      "metadata": {
        "id": "e7f0447b"
      },
      "source": [
        "## ✅ Wrap-Up\n",
        "\n",
        "Make sure to:\n",
        "\n",
        "- Finish the online quiz\n",
        "- Upload:\n",
        "  - This notebook (`homework1.ipynb`)\n",
        "  - Your **bio notebook** as a **PDF**"
      ]
    }
  ],
  "metadata": {
    "language_info": {
      "name": "python"
    },
    "colab": {
      "provenance": [],
      "include_colab_link": true
    },
    "kernelspec": {
      "name": "python3",
      "display_name": "Python 3"
    }
  },
  "nbformat": 4,
  "nbformat_minor": 5
}