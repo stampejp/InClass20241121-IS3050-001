{
  "cells": [
    {
      "cell_type": "markdown",
      "id": "366e6742",
      "metadata": {
        "id": "366e6742"
      },
      "source": [
        "# Week 1 Lab: Python Setup & Basics\n",
        "\n",
        "<a href=\"https://colab.research.google.com/github/bradleyboehmke/uc-bana-4080/blob/main/labs/01_python_intro.ipynb\" target=\"_parent\"><img src=\"https://colab.research.google.com/assets/colab-badge.svg\" alt=\"Open In Colab\"/></a>\n",
        "\n",
        "Welcome to your first lab! Today we'll dig into:\n",
        "\n",
        "🔧 **Today’s Tools**  \n",
        "- Google Colab (starter + walkthrough notebooks)  \n",
        "- [Chapter 2: Working in Colab](https://bradleyboehmke.github.io/uc-bana-4080/02-preparing-for-code.html)\n",
        "- [Chapter 3: Python Basics](https://bradleyboehmke.github.io/uc-bana-4080/03-python-basics.html)\n",
        "\n",
        "🧪 **Lab Agenda**\n",
        "\n",
        "1. ~~**[0–15 min]** Open Colab + run `print(\"Hello World!\")`~~\n",
        "2. **[15–20 min]** What does `print()` do?  \n",
        "3. **[20–35 min]** Data types → `int`, `float`, `str`, `bool`  \n",
        "4. **[35–45 min]** Variables & reassignment  \n",
        "5. **[45–55 min]** Comparison operators  \n",
        "6. **[55–65 min]** Recap: Put it all together  \n",
        "7. **[65–85 min]** Final exercise: Event summary\n"
      ]
    },
    {
      "cell_type": "markdown",
      "id": "371e2be7",
      "metadata": {
        "id": "371e2be7"
      },
      "source": [
        "## Try It Before We Start!\n",
        "\n",
        "Let’s run a few lines of Python code before we dive in."
      ]
    },
    {
      "cell_type": "code",
      "execution_count": 1,
      "id": "749c3d41",
      "metadata": {
        "id": "749c3d41",
        "outputId": "0d47a84a-3487-4255-d295-e5919a47c697",
        "colab": {
          "base_uri": "https://localhost:8080/"
        }
      },
      "outputs": [
        {
          "output_type": "stream",
          "name": "stdout",
          "text": [
            "Hi Taylor! You are 22 years old.\n",
            "You'll turn 30 in 8 years.\n"
          ]
        }
      ],
      "source": [
        "# Store your name as a string\n",
        "name = \"Taylor\"\n",
        "\n",
        "# Store your age as a number\n",
        "age = 22\n",
        "\n",
        "# Print a personalized message\n",
        "print(\"Hi \" + name + \"! You are \" + str(age) + \" years old.\")\n",
        "\n",
        "# Calculate how many years until you turn 30\n",
        "years_to_30 = 30 - age\n",
        "print(\"You'll turn 30 in \" + str(years_to_30) + \" years.\")"
      ]
    },
    {
      "cell_type": "markdown",
      "id": "e3341e6e",
      "metadata": {
        "id": "e3341e6e"
      },
      "source": [
        "What just happened?\n",
        "\n",
        "* You stored information using variables\n",
        "* You worked with different data types (a string and a number)\n",
        "* You used basic math and printed a personalized message\n",
        "\n",
        "Don’t worry if this isn’t totally clear yet - it will be by the end of this lab!"
      ]
    },
    {
      "cell_type": "markdown",
      "id": "9cab2122",
      "metadata": {
        "id": "9cab2122"
      },
      "source": [
        "## 1. Revisiting Our First Line of Code\n",
        "Let's go back to that first line of Python code you ran in Colab:"
      ]
    },
    {
      "cell_type": "code",
      "execution_count": null,
      "id": "afb6c9a0",
      "metadata": {
        "id": "afb6c9a0"
      },
      "outputs": [],
      "source": [
        "print(\"Hello, World!\")"
      ]
    },
    {
      "cell_type": "markdown",
      "id": "b07c3580",
      "metadata": {
        "id": "b07c3580"
      },
      "source": [
        "Now go ahead and run the following line of code which is similar but doesn't include the `print()` function:"
      ]
    },
    {
      "cell_type": "code",
      "execution_count": null,
      "id": "e625cc5b",
      "metadata": {
        "id": "e625cc5b"
      },
      "outputs": [],
      "source": [
        "\"Hello, World!\""
      ]
    },
    {
      "cell_type": "markdown",
      "id": "d765100c",
      "metadata": {
        "id": "d765100c"
      },
      "source": [
        "Do you notice a difference in the output?  How about if you run the following code:"
      ]
    },
    {
      "cell_type": "code",
      "execution_count": null,
      "id": "3b1cc6d9",
      "metadata": {
        "id": "3b1cc6d9"
      },
      "outputs": [],
      "source": [
        "10 + 5\n",
        "20 + 3\n",
        "print(10 + 5)\n",
        "print(20 + 3)"
      ]
    },
    {
      "cell_type": "markdown",
      "id": "ddb00ea9",
      "metadata": {
        "id": "ddb00ea9"
      },
      "source": [
        "### Discussion\n",
        "- What did you notice about the difference between lines with `print()` and those without?\n",
        "- How many outputs were shown when you ran the code?"
      ]
    },
    {
      "cell_type": "markdown",
      "id": "f9f30474",
      "metadata": {
        "id": "f9f30474"
      },
      "source": [
        "The `print()` function in Python is a built-in function used to display output to the console or other specified destinations. It takes one or more arguments and converts them to string representations before writing them."
      ]
    },
    {
      "cell_type": "code",
      "execution_count": null,
      "id": "a9ad8063",
      "metadata": {
        "id": "a9ad8063"
      },
      "outputs": [],
      "source": [
        "# We can even combine multiple items in a single print statement:\n",
        "print(\"The sum of 10 and 5 is\", 10 + 5)"
      ]
    },
    {
      "cell_type": "markdown",
      "id": "fe60fc43",
      "metadata": {
        "id": "fe60fc43"
      },
      "source": [
        "But we're getting ahead of ourselves! Let's take a step back and look at some of the basic data types in Python and also some basic operations we can do on these data types."
      ]
    },
    {
      "cell_type": "markdown",
      "id": "a847b74b",
      "metadata": {
        "id": "a847b74b"
      },
      "source": [
        "## 2. Python Data Types\n",
        "Explore the four common types:"
      ]
    },
    {
      "cell_type": "code",
      "execution_count": 12,
      "id": "e90fa217",
      "metadata": {
        "id": "e90fa217"
      },
      "outputs": [],
      "source": [
        "x = 10.5           # int\n",
        "y = \"hello\"           # float\n",
        "z = False         # str\n",
        "is_student = 1  # bool"
      ]
    },
    {
      "cell_type": "markdown",
      "id": "32667c33",
      "metadata": {
        "id": "32667c33"
      },
      "source": [
        "We can use the `type()` function to check the type of a variable.  Go ahead and run the following code to see the types of the variables we just created:"
      ]
    },
    {
      "cell_type": "code",
      "execution_count": 14,
      "id": "feaa886d",
      "metadata": {
        "id": "feaa886d",
        "outputId": "1bf43800-983d-4a0d-f317-b9fed8afd118",
        "colab": {
          "base_uri": "https://localhost:8080/"
        }
      },
      "outputs": [
        {
          "output_type": "execute_result",
          "data": {
            "text/plain": [
              "int"
            ]
          },
          "metadata": {},
          "execution_count": 14
        }
      ],
      "source": [
        "type(is_student)"
      ]
    },
    {
      "cell_type": "markdown",
      "id": "11c0933b",
      "metadata": {
        "id": "11c0933b"
      },
      "source": [
        "### Exercise\n",
        "\n",
        "1. Run type on each variable (x, y, z, is_student) to see their types.\n",
        "2. Change `x` to 10.5, `y` to \"hello\", `z` to False, and `is_student` to 1 and re-run the type checks.\n",
        "3. Before you run the following, what do you think the data types are for each line? Then, run the code in your notebook to check your answers. Were your predictions correct?\n",
        "    ```python\n",
        "    print(type(\"True\"))\n",
        "    print(type(True))\n",
        "    ```"
      ]
    },
    {
      "cell_type": "markdown",
      "id": "d8e2afbd",
      "metadata": {
        "id": "d8e2afbd"
      },
      "source": [
        "## 3. Variables and Assignment\n",
        "\n",
        "In the section above, we created variables like `x`, `y`, `z`, and `is_student`. These are just names we give to values so we can refer to them later in our code.  \n",
        "\n",
        "* `x`, `y`, `z`, and `is_student` are variable names.\n",
        "* `10`, `3.14`, `\"data\"`, and `True` are the values assigned to those variables.\n",
        "* The `=` operator is used to **assign** a value to a variable"
      ]
    },
    {
      "cell_type": "code",
      "execution_count": null,
      "id": "24c62a2a",
      "metadata": {
        "id": "24c62a2a"
      },
      "outputs": [],
      "source": [
        "price = 12\n",
        "quantity = 4\n",
        "total = price * quantity\n",
        "print(\"Total:\", total)"
      ]
    },
    {
      "cell_type": "markdown",
      "id": "b39fce37",
      "metadata": {
        "id": "b39fce37"
      },
      "source": [
        "### Exercise\n",
        "Change the price or quantity values and rerun the calculation."
      ]
    },
    {
      "cell_type": "markdown",
      "id": "58e0921b",
      "metadata": {
        "id": "58e0921b"
      },
      "source": [
        "## 4. Common Operations\n",
        "\n",
        "In the example above, we did some basic math with our variables. Python allows us to perform various operations on our data types. Here are some common operations."
      ]
    },
    {
      "cell_type": "markdown",
      "id": "0e228dca",
      "metadata": {
        "id": "0e228dca"
      },
      "source": [
        "### Numeric Operations\n",
        "\n",
        "Go ahead and run the following code to see some basic operations with numbers:\n",
        "\n",
        "```python\n",
        "# Basic operations\n",
        "10 - 3.5   # Subtraction\n",
        "10 * 3.5   # Multiplication\n",
        "10 / 3.5   # Division (always returns a float)\n",
        "\n",
        "# More math\n",
        "10 ** 3.5  # Exponentiation (10^2 = 100)\n",
        "10 // 3.5  # Integer division (result is an int)\n",
        "10 % 3.5   # Modulus (remainder)\n",
        "```"
      ]
    },
    {
      "cell_type": "markdown",
      "id": "59a8b5bb",
      "metadata": {
        "id": "59a8b5bb"
      },
      "source": [
        "#### Exercise\n",
        "\n",
        "A 12-inch pizza costs \\$8. Use the formula for the area of a circle ($A = \\pi × r^2$) to calculate the **cost per square inch** of the pizza.\n",
        "\n",
        "Hints:\n",
        "\n",
        "* Radius ($r$) is half the diameter\n",
        "* Use `3.14159` as your approximation for $\\pi$\n",
        "* Divide the price by the area to get cost per square inch\n",
        "\n",
        "Now repeat for a 15-inch pizza that costs \\$12. Which is a better deal?"
      ]
    },
    {
      "cell_type": "code",
      "source": [
        "diamter = 15\n",
        "cost = 12\n",
        "\n",
        "area = 3.14159 * (diamter / 2) ** 2\n",
        "cost_per_sq_inch = cost / area\n",
        "print(cost_per_sq_inch)"
      ],
      "metadata": {
        "id": "Mna5mQrBEZ54",
        "outputId": "19fda60f-3ccb-4431-8658-608c66c716eb",
        "colab": {
          "base_uri": "https://localhost:8080/"
        }
      },
      "id": "Mna5mQrBEZ54",
      "execution_count": 20,
      "outputs": [
        {
          "output_type": "stream",
          "name": "stdout",
          "text": [
            "0.06790616641042699\n"
          ]
        }
      ]
    },
    {
      "cell_type": "markdown",
      "id": "e9ff8251",
      "metadata": {
        "id": "e9ff8251"
      },
      "source": [
        "### String Operations\n",
        "\n",
        "Strings can be combined (concatenated), repeated, or sliced (getting parts of the string).\n"
      ]
    },
    {
      "cell_type": "code",
      "execution_count": null,
      "id": "6533e7e2",
      "metadata": {
        "id": "6533e7e2"
      },
      "outputs": [],
      "source": [
        "# Concatenation\n",
        "\"Hello\" + \" \" + \"BANA 4080!\"   # Hello BANA 4080!"
      ]
    },
    {
      "cell_type": "code",
      "execution_count": 22,
      "id": "94c13f26",
      "metadata": {
        "id": "94c13f26",
        "outputId": "c9689dda-5351-421e-9df2-31d0cb4f7c6b",
        "colab": {
          "base_uri": "https://localhost:8080/",
          "height": 35
        }
      },
      "outputs": [
        {
          "output_type": "execute_result",
          "data": {
            "text/plain": [
              "'hahahahahahahahaha'"
            ],
            "application/vnd.google.colaboratory.intrinsic+json": {
              "type": "string"
            }
          },
          "metadata": {},
          "execution_count": 22
        }
      ],
      "source": [
        "# String repetition\n",
        "\"hahaha\" * 3   # 'hahaha'"
      ]
    },
    {
      "cell_type": "code",
      "execution_count": 27,
      "id": "0b625585",
      "metadata": {
        "id": "0b625585",
        "outputId": "62004f88-385d-4fc0-d88e-b92fc836ccad",
        "colab": {
          "base_uri": "https://localhost:8080/",
          "height": 35
        }
      },
      "outputs": [
        {
          "output_type": "execute_result",
          "data": {
            "text/plain": [
              "'r'"
            ],
            "application/vnd.google.colaboratory.intrinsic+json": {
              "type": "string"
            }
          },
          "metadata": {},
          "execution_count": 27
        }
      ],
      "source": [
        "# Get first letter (starts at 0)\n",
        "\"Taylor\"[-1] # 'T'\n",
        "\n"
      ]
    },
    {
      "cell_type": "markdown",
      "id": "ebbf500b",
      "metadata": {
        "id": "ebbf500b"
      },
      "source": [
        "#### Exercise\n",
        "\n",
        "1. First, guess what each line of code will result in. Then run them in your notebook. Were the results what you expected?\n",
        "    ```python\n",
        "    print(\"Python\" + \"Rocks\")\n",
        "    print(\"ha\" * 5)\n",
        "    print(\"banana\"[1])\n",
        "    print(\"banana\"[::-1])   # Can you guess what this does?\n",
        "    ```\n",
        "2. Can you use slicing to print just the word `\"ana\"` from `\"banana\"`?"
      ]
    },
    {
      "cell_type": "code",
      "source": [
        "\"banana\"[3:] # 'ana'"
      ],
      "metadata": {
        "id": "uCibh4HHGS1a",
        "outputId": "5d9e59fb-9adc-4d17-837b-ea4f17fb7da7",
        "colab": {
          "base_uri": "https://localhost:8080/",
          "height": 35
        }
      },
      "id": "uCibh4HHGS1a",
      "execution_count": 33,
      "outputs": [
        {
          "output_type": "execute_result",
          "data": {
            "text/plain": [
              "'ana'"
            ],
            "application/vnd.google.colaboratory.intrinsic+json": {
              "type": "string"
            }
          },
          "metadata": {},
          "execution_count": 33
        }
      ]
    },
    {
      "cell_type": "markdown",
      "id": "0bc89424",
      "metadata": {
        "id": "0bc89424"
      },
      "source": [
        "## 5. Comparison Operators\n",
        "\n",
        "We often need to compare values in our code. Python provides several comparison operators that return `True` or `False` based on the comparison.\n",
        "\n",
        "| Operator | Description              | Example  | Result  |\n",
        "| -------- | ------------------------ | -------- | ------- |\n",
        "| `==`     | Equal to                 | `5 == 5` | `True`  |\n",
        "| `!=`     | Not equal to             | `5 != 3` | `True`  |\n",
        "| `>`      | Greater than             | `10 > 7` | `True`  |\n",
        "| `<`      | Less than                | `4 < 2`  | `False` |\n",
        "| `>=`     | Greater than or equal to | `3 >= 3` | `True`  |\n",
        "| `<=`     | Less than or equal to    | `8 <= 6` | `False` |"
      ]
    },
    {
      "cell_type": "code",
      "execution_count": null,
      "id": "918e4f26",
      "metadata": {
        "id": "918e4f26"
      },
      "outputs": [],
      "source": [
        "a = 10\n",
        "b = 5\n",
        "print(a > b)\n",
        "print(a == b)\n",
        "print(\"hello\" != \"world\")"
      ]
    },
    {
      "cell_type": "markdown",
      "id": "5fec0890",
      "metadata": {
        "id": "5fec0890"
      },
      "source": [
        "### Exercise\n",
        "\n",
        "#### Exercise 1: Stock Price Comparison\n",
        "\n",
        "Look up **yesterday's closing stock price** and **today's current price** for Kroger (you can make up values if needed). Assign them to variables and write a comparison to see if today’s price is higher.\n",
        "\n",
        "```python\n",
        "kr_close = 67.98\n",
        "kr_current = 67.17\n",
        "\n",
        "print(\"Is today's price higher than yesterday's close?\", kr_current ____ kr_close)\n",
        "```\n",
        "\n",
        "#### Exercise 2: Purchase Quantity Check\n",
        "\n",
        "A customer wants to buy 5 items. A promotion applies only if they buy **3 or more**. Assign the quantities to variables and write a comparison to check if the promotion applies.\n",
        "\n",
        "```python\n",
        "quantity = __\n",
        "promotion_cutoff = __\n",
        "\n",
        "print(\"Promotion applies:\", __________)\n",
        "```\n",
        "\n",
        "#### Exercise 3: Check Multiple Conditions with Comparison Operators\n",
        "\n",
        "A product is considered a **“hot seller”** if its `average_rating` is greater than **4.5** and `num_reviews` is over **100**. Assign those two values and write a single line of code that prints whether it’s a hot seller.\n",
        "\n",
        "```python\n",
        "average_rating = 4.7\n",
        "num_reviews = 135\n",
        "\n",
        "print(\"Hot seller:\", _________ > 4.5 and _________ > 100)\n",
        "```"
      ]
    },
    {
      "cell_type": "markdown",
      "id": "38e5344f",
      "metadata": {
        "id": "38e5344f"
      },
      "source": [
        "## 6. Putting It All Together\n",
        "A recap combining variables, math, and print formatting."
      ]
    },
    {
      "cell_type": "code",
      "execution_count": null,
      "id": "27baac52",
      "metadata": {
        "id": "27baac52"
      },
      "outputs": [],
      "source": [
        "# Store your name as a string\n",
        "name = _________\n",
        "\n",
        "# Store your age as a number\n",
        "age = __\n",
        "\n",
        "# Print a personalized message\n",
        "print(\"Hi, my name is \" + name + \"! I am \" + str(age) + \" years old.\")\n",
        "\n",
        "# Calculate how many years until you turn 30\n",
        "years_to_30 = 30 - age\n",
        "print(\"I'll turn 30 in \" + str(years_to_30) + \" years.\")"
      ]
    },
    {
      "cell_type": "markdown",
      "id": "5deb890d",
      "metadata": {
        "id": "5deb890d"
      },
      "source": [
        "## 7. Final Exercise – Build a Simple Event Summary\n",
        "\n",
        "### The Scenario\n",
        "\n",
        "Your student club is hosting an event and you're in charge of summarizing registration data. Use what you’ve learned in this chapter to answer the following questions using Python.\n",
        "\n",
        "Write all your code **from scratch**—no copy-pasting. Try to reason through the logic before typing.\n",
        "\n",
        "* **Tickets sold:** 56\n",
        "* **Ticket price:** \\$10.50\n",
        "* **Revenue goal:** \\$600\n",
        "* **Event name:** \"Python for Everyone\"\n",
        "\n",
        "### Your Tasks\n",
        "\n",
        "1. **Create Variables**: Assign appropriate values to variables for:\n",
        "   * Event name\n",
        "   * Tickets sold\n",
        "   * Ticket price\n",
        "   * Revenue goal\n",
        "\n",
        "2. **Calculate Total Revenue**: Use math operations to calculate the total revenue earned from ticket sales.\n",
        "\n",
        "3. **Print a Summary Report**: Use `print()` and string concatenation to display a message like:\n",
        "\n",
        "   ```\n",
        "   The event \"Python for Everyone\" sold 56 tickets at $10.50 each.\n",
        "   Total revenue: $588.0\n",
        "   Met or exceeded goal: False\n",
        "   ```\n",
        "\n",
        "4. **Stretch Task** (Optional): Add a comparison that checks whether your total revenue met or exceeded the revenue goal and prints:\n",
        "\n",
        "   * `\"Yaaah! We met our goal!\"` if the goal was met\n",
        "   * `\"Booo! We missed our goal.\"` if it was not\n",
        "\n",
        "   *Hint: Ask a GenAI tool to help you construct the logic! If you can't get it, don't worry as we will talk about this later in the course.*"
      ]
    },
    {
      "cell_type": "markdown",
      "id": "1dbe7e42",
      "metadata": {
        "id": "1dbe7e42"
      },
      "source": []
    }
  ],
  "metadata": {
    "kernelspec": {
      "display_name": "venv (3.12.10)",
      "language": "python",
      "name": "python3"
    },
    "language_info": {
      "codemirror_mode": {
        "name": "ipython",
        "version": 3
      },
      "file_extension": ".py",
      "mimetype": "text/x-python",
      "name": "python",
      "nbconvert_exporter": "python",
      "pygments_lexer": "ipython3",
      "version": "3.12.10"
    },
    "colab": {
      "provenance": []
    }
  },
  "nbformat": 4,
  "nbformat_minor": 5
}